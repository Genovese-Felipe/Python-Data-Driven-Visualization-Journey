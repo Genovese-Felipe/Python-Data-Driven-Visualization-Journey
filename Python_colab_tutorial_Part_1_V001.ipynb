{
  "cells": [
    {
      "cell_type": "markdown",
      "metadata": {
        "id": "view-in-github",
        "colab_type": "text"
      },
      "source": [
        "<a href=\"https://colab.research.google.com/github/Genovese-Felipe/Python-Data-Driven-Visualization-Journey/blob/main/Python_colab_tutorial_Part_1_V001.ipynb\" target=\"_parent\"><img src=\"https://colab.research.google.com/assets/colab-badge.svg\" alt=\"Open In Colab\"/></a>"
      ]
    },
    {
      "cell_type": "markdown",
      "metadata": {
        "id": "dzNng6vCL9eP"
      },
      "source": [
        "#CS231n Python Tutorial With Google Colab"
      ]
    },
    {
      "cell_type": "markdown",
      "metadata": {
        "id": "0vJLt3JRL9eR"
      },
      "source": [
        "This tutorial was originally written by [Justin Johnson](https://web.eecs.umich.edu/~justincj/) for cs231n. It was adapted as a Jupyter notebook for cs228 by [Volodymyr Kuleshov](http://web.stanford.edu/~kuleshov/) and [Isaac Caswell](https://symsys.stanford.edu/viewing/symsysaffiliate/21335).\n",
        "\n",
        "This version has been adapted for Colab by Kevin Zakka for the Spring 2020 edition of [cs231n](https://cs231n.github.io/). It runs Python3 by default."
      ]
    },
    {
      "cell_type": "markdown",
      "source": [],
      "metadata": {
        "id": "rJqRNki1mf1B"
      }
    },
    {
      "cell_type": "markdown",
      "metadata": {
        "id": "qVrTo-LhL9eS"
      },
      "source": [
        "##Introduction"
      ]
    },
    {
      "cell_type": "markdown",
      "metadata": {
        "id": "9t1gKp9PL9eV"
      },
      "source": [
        "Python is a great general-purpose programming language on its own, but with the help of a few popular libraries (numpy, scipy, matplotlib) it becomes a powerful environment for scientific computing.\n",
        "\n",
        "We expect that many of you will have some experience with Python and numpy; for the rest of you, this section will serve as a quick crash course both on the Python programming language and on the use of Python for scientific computing.\n",
        "\n",
        "Some of you may have previous knowledge in Matlab, in which case we also recommend the numpy for Matlab users page (https://docs.scipy.org/doc/numpy-dev/user/numpy-for-matlab-users.html)."
      ]
    },
    {
      "cell_type": "markdown",
      "metadata": {
        "id": "U1PvreR9L9eW"
      },
      "source": [
        "In this tutorial, we will cover:\n",
        "\n",
        "* Basic Python: Basic data types (Containers, Lists, Dictionaries, Sets, Tuples), Functions, Classes\n",
        "* Numpy: Arrays, Array indexing, Datatypes, Array math, Broadcasting\n",
        "* Matplotlib: Plotting, Subplots, Images\n",
        "* IPython: Creating notebooks, Typical workflows"
      ]
    },
    {
      "cell_type": "markdown",
      "metadata": {
        "id": "nxvEkGXPM3Xh"
      },
      "source": [
        "## A Brief Note on Python Versions\n",
        "\n",
        "As of Janurary 1, 2020, Python has [officially dropped support](https://www.python.org/doc/sunset-python-2/) for `python2`. We'll be using Python 3.7 for this iteration of the course. You can check your Python version at the command line by running `python --version`. In Colab, we can enforce the Python version by clicking `Runtime -> Change Runtime Type` and selecting `python3`. Note that as of April 2020, Colab uses Python 3.6.9 which should run everything without any errors."
      ]
    },
    {
      "cell_type": "code",
      "execution_count": 47,
      "metadata": {
        "colab": {
          "base_uri": "https://localhost:8080/"
        },
        "id": "1L4Am0QATgOc",
        "outputId": "2a9edf67-90e3-4a4d-8109-524b1a436c99"
      },
      "outputs": [
        {
          "output_type": "stream",
          "name": "stdout",
          "text": [
            "Python 3.11.13\n"
          ]
        }
      ],
      "source": [
        "!python --version"
      ]
    },
    {
      "cell_type": "markdown",
      "metadata": {
        "id": "JAFKYgrpL9eY"
      },
      "source": [
        "##Basics of Python"
      ]
    },
    {
      "cell_type": "markdown",
      "metadata": {
        "id": "RbFS6tdgL9ea"
      },
      "source": [
        "Python is a high-level, dynamically typed multiparadigm programming language. Python code is often said to be almost like pseudocode, since it allows you to express very powerful ideas in very few lines of code while being very readable. As an example, here is an implementation of the classic quicksort algorithm in Python:"
      ]
    },
    {
      "cell_type": "code",
      "execution_count": 48,
      "metadata": {
        "colab": {
          "base_uri": "https://localhost:8080/"
        },
        "id": "cYb0pjh1L9eb",
        "outputId": "fb3fe182-9b46-409a-b7f3-6d62ffb7a0f7"
      },
      "outputs": [
        {
          "output_type": "stream",
          "name": "stdout",
          "text": [
            "[1, 1, 2, 3, 6, 8, 10]\n"
          ]
        }
      ],
      "source": [
        "def quicksort(arr):\n",
        "    if len(arr) <= 1:\n",
        "        return arr\n",
        "    pivot = arr[len(arr) // 2]\n",
        "    left = [x for x in arr if x < pivot]\n",
        "    middle = [x for x in arr if x == pivot]\n",
        "    right = [x for x in arr if x > pivot]\n",
        "    return quicksort(left) + middle + quicksort(right)\n",
        "\n",
        "print(quicksort([3,6,8,10,1,2,1]))"
      ]
    },
    {
      "cell_type": "markdown",
      "source": [
        "explicação detalhada:\n",
        "\n",
        "def quicksort(arr):: Define uma função chamada quicksort que recebe um argumento, arr (a lista a ser ordenada).\n",
        "\n",
        "if len(arr) <= 1:: Este é o caso base para a recursão. Se a lista tiver 0 ou 1 elemento, ela já está ordenada, então a função retorna a própria lista.\n",
        "\n",
        "pivot = arr[len(arr) // 2]: Seleciona o elemento do meio da lista como o pivô.\n",
        "\n",
        "left = [x for x in arr if x < pivot]: Cria uma nova lista chamada left contendo todos os elementos de arr que são menores que o pivot. Isso é uma list comprehension.\n",
        "\n",
        "right = [x for x in arr if x > pivot]: Cria uma nova lista chamada right contendo todos os elementos de arr que são maiores que o pivot. Esta é outra list comprehension.\n",
        "\n",
        "return quicksort(left) + middle + quicksort(right): Este é o passo recursivo. Ele chama recursivamente quicksort nas listas left e right, e então concatena a lista left ordenada, a lista middle (contendo o(s) pivô(s)), e a lista right ordenada.\n",
        "\n",
        "print(quicksort([3,6,8,10,1,2,1])): Esta linha chama a função quicksort com a lista [3, 6, 8, 10, 1, 2, 1] e imprime a lista ordenada.\n",
        "\n",
        "Em essência, o algoritmo quicksort funciona particionando a lista em três partes: elementos menores que o pivô, o próprio pivô e elementos maiores que o pivô. Em seguida, ele ordena recursivamente as partições \"menor que\" e \"maior que\" e as combina."
      ],
      "metadata": {
        "id": "gxFuMynfqipf"
      }
    },
    {
      "cell_type": "markdown",
      "metadata": {
        "id": "NwS_hu4xL9eo"
      },
      "source": [
        "###Basic data types"
      ]
    },
    {
      "cell_type": "markdown",
      "metadata": {
        "id": "DL5sMSZ9L9eq"
      },
      "source": [
        "####Numbers"
      ]
    },
    {
      "cell_type": "markdown",
      "metadata": {
        "id": "MGS0XEWoL9er"
      },
      "source": [
        "Integers and floats work as you would expect from other languages:"
      ]
    },
    {
      "cell_type": "code",
      "execution_count": 49,
      "metadata": {
        "colab": {
          "base_uri": "https://localhost:8080/"
        },
        "id": "KheDr_zDL9es",
        "outputId": "fa7d108a-14cd-473f-a790-13db90ef4184"
      },
      "outputs": [
        {
          "output_type": "stream",
          "name": "stdout",
          "text": [
            "3 <class 'int'>\n"
          ]
        }
      ],
      "source": [
        "# @title Aplicando Recurso : Formulário\n",
        "x = 3\n",
        "print(x, type(x))"
      ]
    },
    {
      "cell_type": "markdown",
      "source": [
        "---\n",
        "recurso de \"Formulário\" no Google Colab que aparece como opções quando você clica em uma célula de código.\n",
        "\n",
        "Esse recurso é chamado de \"Formulários de código\" no Colab e permite que você crie campos de entrada interativos diretamente nas suas células de código. Isso é muito útil para:\n",
        "\n",
        "\tSimplificar a entrada de parâmetros: Em vez de modificar o código diretamente para alterar variáveis, você pode usar campos de formulário para definir valores (como números, texto, caixas de seleção, etc.).\n",
        "\n",
        "\tTornar notebooks mais interativos: Permite que outras pessoas (ou você mesmo no futuro) usem o notebook sem precisar entender ou modificar o código Python subjacente.\n",
        "\n",
        "\tOcultar código complexo: Você pode ocultar a célula de código e deixar apenas os campos do formulário visíveis, tornando o notebook mais limpo e fácil de usar para quem não precisa ver o código completo.\n",
        "\n",
        "Como funciona:\n",
        "\n",
        "Quando você adiciona um formulário a uma célula de código, o Colab analisa seu código em busca de variáveis que podem ser transformadas em campos de formulário. Você pode então configurar o tipo de campo (texto, número, booleano, lista suspensa, etc.) e as opções disponíveis.\n",
        "\n",
        "Por exemplo, se você tiver uma linha de código como:\n",
        "\n",
        "\tnumero_de_iteracoes = 100\n",
        "\n",
        "Você pode adicionar um formulário a essa célula e o Colab pode sugerir criar um campo numérico para numero_de_iteracoes. Você pode então editar esse campo no formulário em vez de mudar o 100 no código.\n",
        "\n",
        "Detalhes e Recursos:\n",
        "\n",
        "\tTipos de campo: Suporta vários tipos de entrada, como texto, número inteiro, número decimal, booleano (checkbox), lista suspensa (dropdown) e campo de data.\n",
        "\n",
        "\tValidação: Você pode definir validações básicas para alguns tipos de campo (por exemplo, intervalo para números).\n",
        "\n",
        "    Visibilidade do código: Você pode escolher se a célula de código é visível ou se apenas o formulário é mostrado.\n",
        "\n",
        "\tGeração automática: O Colab pode tentar gerar formulários automaticamente com base nas variáveis em sua célula.\n",
        "\n",
        "\tEdição manual: Você tem controle total para adicionar, remover e configurar os campos do formulário manualmente.\n",
        "\n",
        "Para adicionar um formulário a uma célula:\n",
        "\n",
        "\tPasse o mouse sobre a célula de código.\n",
        "\n",
        "\tClique no ícone de ferramenta (chave inglesa/engrenagem) que aparece no canto superior direito da célula.\n",
        "\n",
        "\tClique em \"Adicionar um formulário de código\".\n",
        "\n",
        "Depois de adicionar, você verá uma interface para configurar os campos do formulário.\n",
        "\n",
        "É um recurso muito útil para criar notebooks Colab mais amigáveis e interativos, especialmente se você pretende compartilhá-los com outras pessoas que podem não ser programadores Python experientes.\n",
        "\n",
        "---"
      ],
      "metadata": {
        "id": "wH7NGd7Lt1bM"
      }
    },
    {
      "cell_type": "code",
      "execution_count": 51,
      "metadata": {
        "colab": {
          "base_uri": "https://localhost:8080/"
        },
        "id": "sk_8DFcuL9ey",
        "outputId": "a2ce0f8e-30b8-4aac-9cac-2da35a68f8eb"
      },
      "outputs": [
        {
          "output_type": "stream",
          "name": "stdout",
          "text": [
            "4\n",
            "2\n",
            "6\n",
            "9\n"
          ]
        }
      ],
      "source": [
        "print(x + 1)   # Addition\n",
        "print(x - 1)   # Subtraction\n",
        "print(x * 2)   # Multiplication\n",
        "print(x ** 2)  # Exponentiation"
      ]
    },
    {
      "cell_type": "markdown",
      "source": [
        "Este código demonstra operações matemáticas básicas com a variável x, que foi definida como um número inteiro na célula anterior.\n",
        "\n",
        "print(x + 1): Soma 1 ao valor atual de x e imprime o resultado.\n",
        "print(x - 1): Subtrai 1 do valor atual de x e imprime o resultado.\n",
        "print(x * 2): Multiplica o valor atual de x por 2 e imprime o resultado.\n",
        "print(x ** 2): Calcula a potência de x elevado a 2 (ou seja, x ao quadrado) e imprime o resultado.\n",
        "Como x foi definido como 3 na célula anterior, as saídas esperadas para este código seriam: 4 2 6 9\n",
        "\n",
        "\"*E pra sempre x fica igual a 3?*\"\n",
        "\n",
        "Não, o valor de x não fica igual a 3 para sempre. Em Python, você pode mudar o valor de uma variável a qualquer momento, simplesmente atribuindo um novo valor a ela.\n",
        "\n",
        "No notebook, após a célula onde x foi definido como 3 (x = 3), existem outras células que modificam o valor de x. Por exemplo, a célula com o ID U4Jl8K0tL9e4 tem o seguinte código:\n",
        "\n",
        "x += 1\n",
        "print(x)\n",
        "x *= 2\n",
        "print(x)\n",
        "Nesta célula:\n",
        "\n",
        "x += 1 aumenta o valor de x em 1.\n",
        "x *= 2 multiplica o valor atual de x por 2.\n",
        "\n",
        "Portanto, o valor de x muda ao longo da execução do notebook. O valor de uma variável é o último valor que foi atribuído a ela.\n",
        "\n",
        "Se você executar as células na ordem em que aparecem no notebook, o valor de x será atualizado a cada atribuição ou operação que o modifique."
      ],
      "metadata": {
        "id": "4OKwwrb9z1a-"
      }
    },
    {
      "cell_type": "markdown",
      "source": [
        "”†Como saber o ID de uma célula e se referenciar a ela?*”\n",
        "\n",
        "Ótima pergunta! No Google Colab, cada célula tem um ID único que é atribuído automaticamente pela plataforma. Você pode ver o ID de uma célula passando o mouse sobre ela no notebook. O ID geralmente aparece no canto superior direito da célula ou na URL da página quando a célula está selecionada.\n",
        "\n",
        "Como saber o ID de uma célula:\n",
        "\n",
        "\tPassar o mouse sobre a célula: Em alguns casos, ao passar o mouse sobre a célula, o ID pode aparecer como uma dica ou no canto superior direito.\n",
        "\n",
        "\tSelecionar a célula e olhar a URL: Se você clicar em uma célula, o ID dela geralmente aparece no final da URL do seu notebook no navegador (por exemplo, #cell=SEU_ID_AQUI).\n",
        "\n",
        "\tNo contexto de uma interação com um agente (como eu): Quando você seleciona uma célula e pede para eu fazer algo (como explicar o código), eu recebo o ID da célula no contexto da sua solicitação.\n",
        "\n",
        "Como se referenciar a uma célula:\n",
        "\n",
        "Dentro do código Python padrão em uma célula do Colab, você não consegue se referenciar diretamente a outra célula usando o seu ID da mesma forma que você referencia uma variável (como x ou my_list).\n",
        "\n",
        "As células são blocos de código que são executados sequencialmente ou em uma ordem que você define, mas não são objetos Python que você pode manipular diretamente usando seus IDs no código.\n",
        "\n",
        "No entanto, você pode:\n",
        "\n",
        "\tCompartilhar o notebook: Ao compartilhar o notebook, o ID da célula na URL permite que outras pessoas vão diretamente para aquela célula específica.\n",
        "\n",
        "\tEstruturar seu código: A maneira correta de \"referenciar\" ou usar o resultado de uma célula anterior é garantir que as células que definem variáveis ou funções sejam executadas antes das células que as utilizam. O Colab executa as células na ordem em que aparecem, a menos que você as execute fora de ordem.\n",
        "\n",
        "\tUsar magias ou comandos shell (com cuidado): Existem alguns comandos específicos do Colab (%) ou comandos shell (!) que podem interagir com o ambiente do notebook, mas eles não se referenciam a células por ID para execução de código Python.\n",
        "\n",
        "Portanto, enquanto o Colab usa os IDs internamente para gerenciar e identificar as células, você não os utiliza diretamente no seu código Python para \"chamar\" ou \"referenciar\" outra célula. A forma de conectar as células é através da execução e do uso de variáveis e funções definidas em células anteriores."
      ],
      "metadata": {
        "id": "bMPO4BAc1njV"
      }
    },
    {
      "cell_type": "code",
      "execution_count": 53,
      "metadata": {
        "colab": {
          "base_uri": "https://localhost:8080/"
        },
        "id": "U4Jl8K0tL9e4",
        "outputId": "ac9069c9-53f9-4661-944f-475f4b9c2044"
      },
      "outputs": [
        {
          "output_type": "stream",
          "name": "stdout",
          "text": [
            "9\n",
            "18\n"
          ]
        }
      ],
      "source": [
        "x += 1\n",
        "print(x)\n",
        "x *= 2\n",
        "print(x)"
      ]
    },
    {
      "cell_type": "markdown",
      "source": [
        " Esta célula de código continua a trabalhar com a variável x que foi definida anteriormente.\n",
        "\n",
        " x += 1: Esta linha é uma forma abreviada de x = x + 1.\n",
        " Ela pega o valor atual de x, adiciona 1 a ele e então atribui o novo valor de volta para x.\n",
        "\n",
        " print(x): Imprime o novo valor de x após a adição.\n",
        "\n",
        " x *= 2: Esta linha é uma forma abreviada de x = x * 2.\n",
        " Ela pega o valor atual de x, multiplica por 2 e atribui o resultado de volta para x.\n",
        "\n",
        " print(x): Imprime o valor final de x após a multiplicação.\n",
        "\n",
        " Como mencionei antes, o valor de x não permanece o mesmo. Nesta célula, ele é atualizado duas vezes"
      ],
      "metadata": {
        "id": "hPCvwE7E1YgF"
      }
    },
    {
      "cell_type": "code",
      "execution_count": 54,
      "metadata": {
        "colab": {
          "base_uri": "https://localhost:8080/"
        },
        "id": "w-nZ0Sg_L9e9",
        "outputId": "2b0b7c52-8c3c-4577-b781-97231712861b"
      },
      "outputs": [
        {
          "output_type": "stream",
          "name": "stdout",
          "text": [
            "<class 'float'>\n",
            "2.5 3.5 5.0 6.25\n"
          ]
        }
      ],
      "source": [
        "y = 2.5\n",
        "print(type(y))\n",
        "print(y, y + 1, y * 2, y ** 2)"
      ]
    },
    {
      "cell_type": "markdown",
      "source": [
        "Esta célula de código demonstra como trabalhar com números de ponto flutuante (floats) em Python.\n",
        "\n",
        "y = 2.5: Esta linha atribui o valor decimal 2.5 à variável y.\n",
        "\n",
        "Por ter uma parte decimal, Python a reconhece como um tipo de ponto flutuante.\n",
        "\n",
        "print(type(y)): Esta linha imprime o tipo de dado da variável y.\n",
        "\n",
        "A saída será <class 'float'>, indicando que y é um número de ponto flutuante.\n",
        "\n",
        "print(y, y + 1, y * 2, y ** 2): Esta linha demonstra algumas operações matemáticas com a variável y e imprime os resultados:\n",
        "\n",
        "\ty: O valor original de y.\n",
        "\ty + 1: A soma de y com 1.\n",
        "\ty * 2: A multiplicação de y por 2.\n",
        "\ty ** 2: A potência de y elevado a 2 (y ao quadrado).\n",
        "\n",
        "A saída mostrará o valor de y e os resultados das operações matemáticas."
      ],
      "metadata": {
        "id": "awxTVi1j3pDr"
      }
    },
    {
      "cell_type": "markdown",
      "metadata": {
        "id": "r2A9ApyaL9fB"
      },
      "source": [
        "Note that unlike many languages, Python does not have unary increment (x++) or decrement (x--) operators.\n",
        "\n",
        "Python also has built-in types for long integers and complex numbers; you can find all of the details in the [documentation](https://docs.python.org/3.7/library/stdtypes.html#numeric-types-int-float-long-complex)."
      ]
    },
    {
      "cell_type": "markdown",
      "source": [
        "Esta célula de texto (Markdown) está fornecendo algumas informações adicionais sobre os tipos numéricos em Python:\n",
        "\n",
        "\tAusência de operadores de incremento/decremento unários (x++, x--):\n",
        "    \tAo contrário de muitas outras linguagens de programação (como C++, Java), Python não possui os operadores unários ++ (incremento) e -- (decremento).\n",
        "        Para aumentar ou diminuir o valor de uma variável em 1, você deve usar a sintaxe de atribuição composta, como x += 1 ou x -= 1.\n",
        "\n",
        "\tTipos de dados adicionais:\n",
        "\n",
        "    \tA célula menciona que Python possui tipos de dados embutidos para números inteiros longos (que automaticamente lidam com números muito grandes) e números complexos.\n",
        "\n",
        "    Referência à documentação:\n",
        "    \tA célula inclui um link para a documentação oficial do Python ([redacted link]) onde você pode encontrar todos os detalhes sobre os tipos numéricos em Python.\n",
        "\n",
        "Em resumo, esta célula serve para adicionar informações e direcionar o usuário para a documentação oficial para aprender mais sobre os tipos de números em Python e uma diferença notável em relação a operadores de outras linguagens.\n",
        "\n"
      ],
      "metadata": {
        "id": "4gBL6Wp141wd"
      }
    },
    {
      "cell_type": "markdown",
      "source": [
        "No Python, os principais tipos de dados numéricos que você encontrará e usará frequentemente são:\n",
        "\n",
        "\tInteiros (int): Representam números inteiros (positivos, negativos e zero) sem parte fracionária. O Python 3 lida automaticamente com inteiros de qualquer tamanho, limitados apenas pela memória disponível. Exemplo: x = 10, idade = -25, zero = 0.\n",
        "\n",
        "\tNúmeros de Ponto Flutuante (float): Representam números reais, ou seja, números que têm uma parte fracionária (depois do ponto decimal). Eles são usados para representar valores não inteiros. Exemplo: pi = 3.14159, preco = 19.99, temperatura = -5.5.\n",
        "\n",
        "\tNúmeros Complexos (complex): Representam números complexos na forma a + bj, onde a e b são floats e j (ou i) é a unidade imaginária (√-1). Exemplo: z = 1 + 2j.\n",
        "\n",
        "Os casos de uso são variados, mas em geral:\n",
        "\n",
        "\tUse inteiros para contagens, índices, IDs, e qualquer valor que não possa ter uma fração.\n",
        "\n",
        "\tUse floats para medidas, cálculos científicos, valores monetários (embora para precisão financeira, às vezes se use o módulo decimal), e qualquer valor que possa ter uma parte decimal.\n",
        "\n",
        "\tUse números complexos em áreas específicas como engenharia elétrica ou matemática avançada.\n",
        "\n",
        "O Python faz a conversão automática entre inteiros e floats em muitas operações, mas é importante estar ciente do tipo de dado para evitar resultados inesperados, especialmente em comparações ou operações que exigem precisão exata."
      ],
      "metadata": {
        "id": "mm0aAFsM7b0m"
      }
    },
    {
      "cell_type": "markdown",
      "source": [
        "Vamos expandir sobre os itens 2 e 3 daquela célula de texto:\n",
        "\n",
        "Item 2: Python também possui tipos de dados embutidos para números inteiros longos e números complexos.\n",
        "\n",
        "\tInteiros Longos (int):\n",
        "\n",
        "\t\tEm muitas linguagens de programação mais antigas (como C), o tamanho dos números inteiros era limitado (por exemplo, 32 bits ou 64 bits), e havia tipos separados para inteiros maiores (como long). Se um cálculo excedesse o limite do tipo int, ocorria um erro ou o número \"quebrava\".\n",
        "\n",
        "\t\tNo Python 3 (e já no Python 2, mas com um tipo long separado), o tipo int não tem um limite fixo de tamanho. O Python aloca automaticamente a memória necessária para armazenar inteiros de qualquer tamanho, desde que haja memória disponível no sistema.\n",
        "\n",
        "\t\tIsso significa que você pode realizar operações com números gigantescos sem se preocupar com estouro de capacidade (overflow).\n",
        "\n",
        "\t\tExemplo:\n",
        "        \tnumero_muito_grande = 10**100 # Um número com 1 seguido de 100 zeros\n",
        "            print(numero_muito_grande)\n",
        "            print(type(numero_muito_grande)) # Ainda é do tipo 'int'\n",
        "\n",
        "\tNúmeros Complexos (complex):\n",
        "\n",
        "    \tPython tem suporte nativo para números complexos. Um número complexo é um número que pode ser escrito na forma a + bj, onde a e b são números reais e j é a unidade imaginária definida como a raiz quadrada de -1.\n",
        "\n",
        "        Em Python, a parte imaginária é denotada com um j ou J (e não i como em matemática tradicional).\n",
        "        O tipo complex armazena a parte real e a parte imaginária como números de ponto flutuante (float).\n",
        "\n",
        "        São usados em várias áreas científicas e de engenharia, especialmente em processamento de sinais, análise de sistemas e física quântica.\n",
        "\n",
        "        Você pode realizar operações aritméticas (soma, subtração, multiplicação, divisão) diretamente com números complexos.\n",
        "\n",
        "        Exemplo:\n",
        "\n",
        "        \tz1 = 1 + 2j\n",
        "            z2 = 3 - 4j\n",
        "            soma = z1 + z2\n",
        "            produto = z1 * z2\n",
        "            print(soma)\n",
        "            print(produto)\n",
        "            print(type(z1)) # É do tipo 'complex'\n",
        "\n",
        "Item 3: Você pode encontrar todos os detalhes na documentação.\n",
        "\n",
        "\tEsta parte simplesmente destaca a importância da documentação oficial do Python.\n",
        "\n",
        "\tA documentação é a fonte mais completa e precisa de informações sobre a linguagem, seus tipos de dados, funções embutidas, módulos padrão, etc.\n",
        "\n",
        "\tExplorar a documentação é uma habilidade crucial para qualquer programador, pois ela contém detalhes aprofundados, exemplos e explicações sobre comportamentos específicos que tutoriais introdutórios podem não cobrir.\n",
        "\n",
        "Em resumo, o item 2 informa sobre a capacidade do Python de lidar com inteiros de tamanho arbitrário e seu suporte nativo a números complexos, enquanto o item 3 incentiva a consulta à documentação oficial para um entendimento completo.\n",
        ""
      ],
      "metadata": {
        "id": "RexYA-CO8FlA"
      }
    },
    {
      "cell_type": "markdown",
      "metadata": {
        "id": "EqRS7qhBL9fC"
      },
      "source": [
        "####Booleans"
      ]
    },
    {
      "cell_type": "markdown",
      "metadata": {
        "id": "Nv_LIVOJL9fD"
      },
      "source": [
        "Python implements all of the usual operators for Boolean logic, but uses English words rather than symbols (`&&`, `||`, etc.):"
      ]
    },
    {
      "cell_type": "code",
      "execution_count": 57,
      "metadata": {
        "colab": {
          "base_uri": "https://localhost:8080/"
        },
        "id": "RvoImwgGL9fE",
        "outputId": "6d1021c2-cd81-484e-f700-9a88f07980ef"
      },
      "outputs": [
        {
          "output_type": "stream",
          "name": "stdout",
          "text": [
            "<class 'bool'>\n"
          ]
        }
      ],
      "source": [
        "t, f = True, False\n",
        "print(type(t))"
      ]
    },
    {
      "cell_type": "markdown",
      "source": [
        "Esta célula de código demonstra como inicializar variáveis booleanas em Python e verificar o tipo de dado.\n",
        "\n",
        "\tt, f = True, False: Esta linha atribui o valor booleano True à variável t e o valor booleano False à variável f. Esta é uma forma concisa de atribuir múltiplos valores a múltiplas variáveis em uma única linha.\n",
        "\n",
        "\tprint(type(t)): Esta linha imprime o tipo de dado da variável t. Como t foi atribuída o valor True, que é um literal booleano em Python, a saída será <class 'bool'>.\n",
        "\n",
        "Essa célula prepara as variáveis t e f para serem usadas em demonstrações posteriores de operações lógicas booleanas (AND, OR, NOT, etc.)."
      ],
      "metadata": {
        "id": "nwe5tbVl-0_p"
      }
    },
    {
      "cell_type": "markdown",
      "metadata": {
        "id": "YQgmQfOgL9fI"
      },
      "source": [
        "Now we let's look at the operations:"
      ]
    },
    {
      "cell_type": "code",
      "execution_count": 58,
      "metadata": {
        "colab": {
          "base_uri": "https://localhost:8080/"
        },
        "id": "6zYm7WzCL9fK",
        "outputId": "1db44fd9-2f87-4fee-92b1-9b18c5247bdd"
      },
      "outputs": [
        {
          "output_type": "stream",
          "name": "stdout",
          "text": [
            "False\n",
            "True\n",
            "False\n",
            "True\n"
          ]
        }
      ],
      "source": [
        "print(t and f) # Logical AND;\n",
        "print(t or f)  # Logical OR;\n",
        "print(not t)   # Logical NOT;\n",
        "print(t != f)  # Logical XOR;"
      ]
    },
    {
      "cell_type": "markdown",
      "source": [
        "Esta célula de código demonstra as operações lógicas booleanas básicas em Python, usando as variáveis booleanas t (True) e f (False) definidas na célula anterior.\n",
        "\n",
        "\tprint(t and f): Realiza a operação lógica AND (E) entre t e f. A operação AND retorna True apenas se ambos os operandos forem True. Como f é False, o resultado é False.\n",
        "\n",
        "\tprint(t or f): Realiza a operação lógica OR (OU) entre t e f. A operação OR retorna True se pelo menos um dos operandos for True. Como t é True, o resultado é True.\n",
        "\n",
        "\tprint(not t): Realiza a operação lógica NOT (NÃO) em t. A operação NOT inverte o valor booleano. Como t é True, o resultado é False.\n",
        "\n",
        "\tprint(t != f): Realiza a operação de diferença (!=). Para valores booleanos, != funciona como um XOR (OU Exclusivo). Retorna True se os operandos forem diferentes. Como t é True e f é False, eles são diferentes, e o resultado é True.\n",
        "\n",
        "A saída mostrará os resultados dessas operações lógicas."
      ],
      "metadata": {
        "id": "HApLNU94_g5M"
      }
    },
    {
      "cell_type": "markdown",
      "metadata": {
        "id": "UQnQWFEyL9fP"
      },
      "source": [
        "####Strings"
      ]
    },
    {
      "cell_type": "code",
      "execution_count": 60,
      "metadata": {
        "colab": {
          "base_uri": "https://localhost:8080/"
        },
        "id": "AijEDtPFL9fP",
        "outputId": "c8af9031-db21-45e2-9542-c4e2df4f39cb"
      },
      "outputs": [
        {
          "output_type": "stream",
          "name": "stdout",
          "text": [
            "hello 5\n"
          ]
        }
      ],
      "source": [
        "hello = 'hello'   # String literals can use single quotes\n",
        "world = \"world\"   # or double quotes; it does not matter\n",
        "print(hello, len(hello))"
      ]
    },
    {
      "cell_type": "markdown",
      "source": [
        "Como criar e imprimir strings (cadeias de caracteres) em Python, além de mostrar como obter o comprimento de uma string.\n",
        "\n",
        "\thello = 'hello':\n",
        "    \tEsta linha cria uma string com o valor \"hello\" e a atribui à variável hello. Strings podem ser definidas usando aspas simples (').\n",
        "\n",
        "    world = \"world\":\n",
        "    \tEsta linha cria outra string com o valor \"world\" e a atribui à variável world. Strings também podem ser definidas usando aspas duplas (\"). Em Python, não há diferença entre usar aspas simples ou duplas para strings literais.\n",
        "    \n",
        "    print(hello, len(hello)):\n",
        "    \tEsta linha imprime duas coisas:\n",
        "    \t\tO valor da variável hello.\n",
        "    \t\tO comprimento da string hello, obtido usando a função embutida len(). O comprimento de \"hello\" é 5.\n",
        "\n",
        "A saída desta célula será \"hello 5\"."
      ],
      "metadata": {
        "id": "hMz0FJaZAYDS"
      }
    },
    {
      "cell_type": "code",
      "execution_count": 64,
      "metadata": {
        "colab": {
          "base_uri": "https://localhost:8080/"
        },
        "id": "saDeaA7hL9fT",
        "outputId": "db9b3be7-9c1d-4dc3-c21d-fb2e57a6ad43"
      },
      "outputs": [
        {
          "output_type": "stream",
          "name": "stdout",
          "text": [
            "hello world\n"
          ]
        }
      ],
      "source": [
        "hw = hello + ' ' + world  # String concatenation\n",
        "print(hw)"
      ]
    },
    {
      "cell_type": "markdown",
      "source": [
        "Esta célula de código demonstra a concatenação de strings em Python.\n",
        "\n",
        "hw = hello + ' ' + world: Esta linha combina (concatena) três strings:\n",
        "O valor da variável hello (que é \"hello\").\n",
        "Um espaço em branco literal (' ').\n",
        "O valor da variável world (que é \"world\").\n",
        "\n",
        "O resultado dessa combinação é uma nova string \"hello world\", que é então atribuída à variável hw.\n",
        "print(hw): Esta linha imprime o valor da string hw.\n",
        "\n",
        "A saída desta célula será \"hello world\".\n",
        "\n",
        "A concatenação usando o operador + é uma maneira simples de juntar strings em Python."
      ],
      "metadata": {
        "id": "h_98AX8rCJO5"
      }
    },
    {
      "cell_type": "code",
      "execution_count": 65,
      "metadata": {
        "colab": {
          "base_uri": "https://localhost:8080/"
        },
        "id": "Nji1_UjYL9fY",
        "outputId": "11f61149-62d9-43b7-9b68-2edc79c005d8"
      },
      "outputs": [
        {
          "output_type": "stream",
          "name": "stdout",
          "text": [
            "hello world 12\n"
          ]
        }
      ],
      "source": [
        "hw12 = '{} {} {}'.format(hello, world, 12)  # string formatting\n",
        "print(hw12)"
      ]
    },
    {
      "cell_type": "markdown",
      "source": [
        "Este código demonstra uma maneira comum de formatar strings em Python, incorporando valores de outras variáveis.\n",
        "\n",
        "\thw12 = '{} {} {}'.format(hello, world, 12):\n",
        "\t\tEsta linha usa o método .format() para criar uma nova string e atribuí-la à variável hw12.\n",
        "    \n",
        "    \tAs chaves {} dentro da string literal servem como placeholders (marcadores de posição).\n",
        "\n",
        "        O método .format() substitui esses placeholders, na ordem em que aparecem, pelos valores passados como argumentos (hello, world e 12).\n",
        "\n",
        "        A string hello é \"hello\", a string world é \"world\", e o número 12 é um inteiro.\n",
        "        \n",
        "        O método .format() converte automaticamente os argumentos para string, se necessário.\n",
        "\n",
        "    print(hw12): Esta linha imprime a string formatada armazenada na variável hw12.\n",
        "\n",
        "A saída desta célula será \"hello world 12\". É uma forma flexível de construir strings complexas a partir de outras variáveis e literais.\n"
      ],
      "metadata": {
        "id": "Z88A0WpGCobV"
      }
    },
    {
      "cell_type": "markdown",
      "metadata": {
        "id": "bUpl35bIL9fc"
      },
      "source": [
        "String objects have a bunch of useful methods; for example:"
      ]
    },
    {
      "cell_type": "code",
      "execution_count": 66,
      "metadata": {
        "colab": {
          "base_uri": "https://localhost:8080/"
        },
        "id": "VOxGatlsL9fd",
        "outputId": "fc320661-ddc1-40f5-e986-40d8009cd31d"
      },
      "outputs": [
        {
          "output_type": "stream",
          "name": "stdout",
          "text": [
            "Hello\n",
            "HELLO\n",
            "  hello\n",
            " hello \n",
            "he(ell)(ell)o\n",
            "world\n"
          ]
        }
      ],
      "source": [
        "s = \"hello\"\n",
        "print(s.capitalize())  # Capitalize a string\n",
        "print(s.upper())       # Convert a string to uppercase; prints \"HELLO\"\n",
        "print(s.rjust(7))      # Right-justify a string, padding with spaces\n",
        "print(s.center(7))     # Center a string, padding with spaces\n",
        "print(s.replace('l', '(ell)'))  # Replace all instances of one substring with another\n",
        "print('  world '.strip())  # Strip leading and trailing whitespace"
      ]
    },
    {
      "cell_type": "markdown",
      "source": [
        "Esta célula de código demonstra alguns dos métodos úteis que podem ser aplicados a objetos string em Python.\n",
        "\n",
        "s = \"hello\": Primeiro, uma string \"hello\" é criada e atribuída à variável s.\n",
        "\n",
        "print(s.capitalize()): Chama o método capitalize() na string s. Este método retorna uma nova string onde a primeira letra é maiúscula e o restante é minúscula. A saída será \"Hello\".\n",
        "\n",
        "print(s.upper()): Chama o método upper() na string s. Este método retorna uma nova string com todos os caracteres convertidos para maiúsculas. A saída será \"HELLO\".\n",
        "\n",
        "print(s.rjust(7)): Chama o método rjust(7) na string s. Este método retorna uma nova string \"justificada à direita\" dentro de uma largura total especificada (7 caracteres neste caso). Espaços em branco são adicionados ao início para preencher a largura. A saída será \" hello\".\n",
        "\n",
        "print(s.center(7)): Chama o método center(7) na string s. Este método retorna uma nova string centralizada dentro de uma largura total especificada (7 caracteres). Espaços em branco são adicionados em ambos os lados para preencher a largura. A saída será \" hello \".\n",
        "\n",
        "print(s.replace('l', '(ell)')): Chama o método replace('l', '(ell)') na string s. Este método retorna uma nova string onde todas as ocorrências da substring 'l' são substituídas pela substring '(ell)'. A saída será \"he(ell)(ell)o\".\n",
        "\n",
        "print(' world '.strip()): Chama o método strip() na string literal ' world '. Este método retorna uma nova string com os espaços em branco (ou outros caracteres especificados) removidos do início e do fim da string. A saída será \"world\".\n",
        "\n",
        "Cada método retorna uma nova string modificada; a string original s não é alterada pelas chamadas a esses métodos."
      ],
      "metadata": {
        "id": "MIFMQ5oND7NF"
      }
    },
    {
      "cell_type": "markdown",
      "metadata": {
        "id": "06cayXLtL9fi"
      },
      "source": [
        "You can find a list of all string methods in the [documentation](https://docs.python.org/3.7/library/stdtypes.html#string-methods)."
      ]
    },
    {
      "cell_type": "markdown",
      "metadata": {
        "id": "p-6hClFjL9fk"
      },
      "source": [
        "###Containers"
      ]
    },
    {
      "cell_type": "markdown",
      "metadata": {
        "id": "FD9H18eQL9fk"
      },
      "source": [
        "Python includes several built-in container types: lists, dictionaries, sets, and tuples."
      ]
    },
    {
      "cell_type": "markdown",
      "metadata": {
        "id": "UsIWOe0LL9fn"
      },
      "source": [
        "####Lists"
      ]
    },
    {
      "cell_type": "markdown",
      "metadata": {
        "id": "wzxX7rgWL9fn"
      },
      "source": [
        "A list is the Python equivalent of an array, but is resizeable and can contain elements of different types:"
      ]
    },
    {
      "cell_type": "code",
      "execution_count": 79,
      "metadata": {
        "colab": {
          "base_uri": "https://localhost:8080/"
        },
        "id": "hk3A8pPcL9fp",
        "outputId": "9c670ad0-9396-4cff-f7b3-6d94a2b21083"
      },
      "outputs": [
        {
          "output_type": "stream",
          "name": "stdout",
          "text": [
            "[3, 1, 2] 2\n",
            "2\n"
          ]
        }
      ],
      "source": [
        "xs = [3, 1, 2]   # Create a list\n",
        "print(xs, xs[2])\n",
        "print(xs[-1])     # Negative indices count from the end of the list; prints \"2\""
      ]
    },
    {
      "cell_type": "markdown",
      "source": [
        "Como criar e acessar elementos em uma lista em Python.\n",
        "\n",
        "xs = [3, 1, 2]:\n",
        "\n",
        "\tEsta linha cria uma lista chamada xs contendo os números inteiros 3, 1 e 2.\n",
        "\n",
        "As listas em Python são ordenadas, mutáveis e podem conter elementos de diferentes tipos.\n",
        "\n",
        "print(xs, xs[2]):\n",
        "Esta linha imprime a lista completa xs e o elemento no índice 2 da lista.\n",
        "\n",
        "Em Python, a indexação de listas começa em 0, então xs[2] se refere ao terceiro elemento da lista, que é 2.\n",
        "\n",
        "\tA saída será [3, 1, 2] 2.\n",
        "\n",
        "print(xs[-1]):\n",
        "\n",
        "Esta linha demonstra o uso de índices negativos.\n",
        "\n",
        "Índices negativos contam a partir do final da lista.\n",
        "\n",
        "xs[-1] se refere ao último elemento da lista, que é 2.\n",
        "\n",
        "\tA saída será 2."
      ],
      "metadata": {
        "id": "5e_5YmhbHn7i"
      }
    },
    {
      "cell_type": "code",
      "execution_count": 80,
      "metadata": {
        "colab": {
          "base_uri": "https://localhost:8080/"
        },
        "id": "YCjCy_0_L9ft",
        "outputId": "f39e0b6e-1077-4846-8b1f-f31a33c80f04"
      },
      "outputs": [
        {
          "output_type": "stream",
          "name": "stdout",
          "text": [
            "[3, 1, 'foo']\n"
          ]
        }
      ],
      "source": [
        "xs[2] = 'foo'    # Lists can contain elements of different types\n",
        "print(xs)"
      ]
    },
    {
      "cell_type": "markdown",
      "source": [
        "Listas em Python podem conter elementos de diferentes tipos e como modificar um elemento existente.\n",
        "\n",
        "xs[2] = 'foo':\n",
        "Esta linha modifica o elemento no índice 2 da lista xs. Originalmente, o elemento no índice 2 era o número inteiro 2.\n",
        "\n",
        "Agora, ele é substituído pela string 'foo'. Isso é possível porque as listas em Python são flexíveis e podem armazenar tipos de dados misturados.\n",
        "\n",
        "print(xs):\n",
        "Esta linha imprime a lista xs após a modificação.\n",
        "\n",
        "\tA saída mostrará a lista atualizada: [3, 1, 'foo']."
      ],
      "metadata": {
        "id": "FQTUl1YcJBOg"
      }
    },
    {
      "cell_type": "code",
      "execution_count": 81,
      "metadata": {
        "colab": {
          "base_uri": "https://localhost:8080/"
        },
        "id": "vJ0x5cF-L9fx",
        "outputId": "47c3b182-8eaf-4930-db65-a5e11a25b173"
      },
      "outputs": [
        {
          "output_type": "stream",
          "name": "stdout",
          "text": [
            "[3, 1, 'foo', 'bar']\n"
          ]
        }
      ],
      "source": [
        "xs.append('bar') # Add a new element to the end of the list\n",
        "print(xs)"
      ]
    },
    {
      "cell_type": "markdown",
      "source": [
        "Como adicionar um novo elemento ao final de uma lista em Python.\n",
        "\n",
        "xs.append('bar'):\n",
        "Esta linha usa o método .append() para adicionar a string 'bar' ao final da lista xs.\n",
        "\n",
        "print(xs):\n",
        "Esta linha imprime a lista xs após a adição do novo elemento.\n",
        "\n",
        "\tA saída mostrará a lista com 'bar' adicionado ao final, como em [3, 1, 'foo', 'bar']."
      ],
      "metadata": {
        "id": "UXAEXfE5J-o9"
      }
    },
    {
      "cell_type": "code",
      "execution_count": 82,
      "metadata": {
        "colab": {
          "base_uri": "https://localhost:8080/"
        },
        "id": "cxVCNRTNL9f1",
        "outputId": "728f7027-2f85-4d25-d41e-04e9cd93c504"
      },
      "outputs": [
        {
          "output_type": "stream",
          "name": "stdout",
          "text": [
            "bar [3, 1, 'foo']\n"
          ]
        }
      ],
      "source": [
        "x = xs.pop()     # Remove and return the last element of the list\n",
        "print(x, xs)"
      ]
    },
    {
      "cell_type": "markdown",
      "source": [
        "Como remover o último elemento de uma lista em Python.\n",
        "\n",
        "x = xs.pop(): Esta linha usa o método .pop() na lista xs. O método .pop() remove e retorna o último elemento da lista. O valor removido ('bar' neste caso, da célula anterior) é então atribuído à variável x.\n",
        "\n",
        "print(x, xs): Esta linha imprime o valor que foi removido (armazenado em x) e a lista xs após a remoção do elemento.\n",
        "\n",
        "\tA saída mostrará o elemento removido e a lista resultante."
      ],
      "metadata": {
        "id": "60VAeK9NKmru"
      }
    },
    {
      "cell_type": "markdown",
      "metadata": {
        "id": "ilyoyO34L9f4"
      },
      "source": [
        "As usual, you can find all the gory details about lists in the [documentation](https://docs.python.org/3.7/tutorial/datastructures.html#more-on-lists)."
      ]
    },
    {
      "cell_type": "markdown",
      "metadata": {
        "id": "ovahhxd_L9f5"
      },
      "source": [
        "####Slicing"
      ]
    },
    {
      "cell_type": "markdown",
      "metadata": {
        "id": "YeSYKhv9L9f6"
      },
      "source": [
        "In addition to accessing list elements one at a time, Python provides concise syntax to access sublists; this is known as slicing:"
      ]
    },
    {
      "cell_type": "code",
      "execution_count": 83,
      "metadata": {
        "colab": {
          "base_uri": "https://localhost:8080/"
        },
        "id": "ninq666bL9f6",
        "outputId": "49006b7e-4f1d-40dc-bc72-084e53b907a2"
      },
      "outputs": [
        {
          "output_type": "stream",
          "name": "stdout",
          "text": [
            "[0, 1, 2, 3, 4]\n",
            "[2, 3]\n",
            "[2, 3, 4]\n",
            "[0, 1]\n",
            "[0, 1, 2, 3, 4]\n",
            "[0, 1, 2, 3]\n",
            "[0, 1, 8, 9, 4]\n"
          ]
        }
      ],
      "source": [
        "nums = list(range(5))    # range is a built-in function that creates a list of integers\n",
        "print(nums)         # Prints \"[0, 1, 2, 3, 4]\"\n",
        "print(nums[2:4])    # Get a slice from index 2 to 4 (exclusive); prints \"[2, 3]\"\n",
        "print(nums[2:])     # Get a slice from index 2 to the end; prints \"[2, 3, 4]\"\n",
        "print(nums[:2])     # Get a slice from the start to index 2 (exclusive); prints \"[0, 1]\"\n",
        "print(nums[:])      # Get a slice of the whole list; prints [\"0, 1, 2, 3, 4]\"\n",
        "print(nums[:-1])    # Slice indices can be negative; prints [\"0, 1, 2, 3]\"\n",
        "nums[2:4] = [8, 9] # Assign a new sublist to a slice\n",
        "print(nums)         # Prints \"[0, 1, 8, 9, 4]\""
      ]
    },
    {
      "cell_type": "markdown",
      "source": [
        "Conceito de \"slicing\" (fatiamento) em listas Python, que permite acessar subpartes de uma lista.\n",
        "\n",
        "nums = list(range(5)): Esta linha cria uma lista chamada nums. A função range(5) gera uma sequência de números de 0 até 4 (exclusivo do 5), e list() converte essa sequência em uma lista. A lista nums será [0, 1, 2, 3, 4].\n",
        "\n",
        "print(nums): Imprime a lista completa nums. Saída: [0, 1, 2, 3, 4].\n",
        "\n",
        "print(nums[2:4]): Obtém uma \"fatia\" (slice) da lista do índice 2 (inclusive) até o índice 4 (exclusive). Os elementos nos índices 2 e 3 são incluídos. Saída: [2, 3].\n",
        "\n",
        "print(nums[2:]): Obtém uma fatia do índice 2 (inclusive) até o final da lista. Saída: [2, 3, 4].\n",
        "\n",
        "print(nums[:2]): Obtém uma fatia do início da lista até o índice 2 (exclusive). Os elementos nos índices 0 e 1 são incluídos. Saída: [0, 1].\n",
        "\n",
        "print(nums[:]): Obtém uma fatia da lista inteira. Isso cria uma cópia superficial da lista. Saída: [0, 1, 2, 3, 4].\n",
        "\n",
        "print(nums[:-1]): Obtém uma fatia do início da lista até o penúltimo elemento (índice -1 exclusivo). Saída: [0, 1, 2, 3].\n",
        "\n",
        "nums[2:4] = [8, 9]: Esta linha atribui uma nova sublista [8, 9] à fatia da lista nums que vai do índice 2 ao 4 (exclusive). Os elementos nos índices 2 e 3 são substituídos por 8 e 9, respectivamente.\n",
        "\n",
        "print(nums): Imprime a lista nums após a atribuição da nova sublista. Saída: [0, 1, 8, 9, 4].\n",
        "\n",
        "O \"slicing\" é uma forma poderosa e concisa de manipular subpartes de listas, tuplas e outras sequências em Python."
      ],
      "metadata": {
        "id": "af94wKAILiRq"
      }
    },
    {
      "cell_type": "markdown",
      "metadata": {
        "id": "UONpMhF4L9f_"
      },
      "source": [
        "####Loops"
      ]
    },
    {
      "cell_type": "markdown",
      "metadata": {
        "id": "_DYz1j6QL9f_"
      },
      "source": [
        "You can loop over the elements of a list like this:"
      ]
    },
    {
      "cell_type": "code",
      "execution_count": 84,
      "metadata": {
        "colab": {
          "base_uri": "https://localhost:8080/"
        },
        "id": "4cCOysfWL9gA",
        "outputId": "19e0b76d-07b3-4df9-fe88-198f2ebcc400"
      },
      "outputs": [
        {
          "output_type": "stream",
          "name": "stdout",
          "text": [
            "cat\n",
            "dog\n",
            "monkey\n"
          ]
        }
      ],
      "source": [
        "animals = ['cat', 'dog', 'monkey']\n",
        "for animal in animals:\n",
        "    print(animal)"
      ]
    },
    {
      "cell_type": "markdown",
      "source": [
        "Esta célula de código demonstra como iterar (percorrer) os elementos de uma lista usando um loop for em Python.\n",
        "\n",
        "animals = ['cat', 'dog', 'monkey']: Primeiro, uma lista chamada animals é criada contendo três strings.\n",
        "for animal in animals:: Esta é a sintaxe do loop for \"for-each\" em Python. Ele itera sobre cada elemento na lista animals. Em cada iteração do loop, o elemento atual da lista é atribuído à variável animal.\n",
        "print(animal): Dentro do loop, esta linha imprime o valor da variável animal, que é o elemento atual da lista.\n",
        "A saída deste código será cada animal da lista impresso em uma nova linha: cat dog monkey"
      ],
      "metadata": {
        "id": "MefOd2CHNMNH"
      }
    },
    {
      "cell_type": "markdown",
      "metadata": {
        "id": "KxIaQs7pL9gE"
      },
      "source": [
        "If you want access to the index of each element within the body of a loop, use the built-in `enumerate` function:"
      ]
    },
    {
      "cell_type": "code",
      "execution_count": 85,
      "metadata": {
        "colab": {
          "base_uri": "https://localhost:8080/"
        },
        "id": "JjGnDluWL9gF",
        "outputId": "a801dfb3-0ccd-42f5-ae4a-aa8f63025c82"
      },
      "outputs": [
        {
          "output_type": "stream",
          "name": "stdout",
          "text": [
            "#1: cat\n",
            "#2: dog\n",
            "#3: monkey\n"
          ]
        }
      ],
      "source": [
        "animals = ['cat', 'dog', 'monkey']\n",
        "for idx, animal in enumerate(animals):\n",
        "    print('#{}: {}'.format(idx + 1, animal))"
      ]
    },
    {
      "cell_type": "markdown",
      "source": [
        "Como iterar sobre uma lista e, ao mesmo tempo, ter acesso ao índice de cada elemento, utilizando a função embutida enumerate().\n",
        "\n",
        "animals = ['cat', 'dog', 'monkey']: Define uma lista chamada animals com três elementos.\n",
        "for idx, animal in enumerate(animals):: Este é um loop for que usa a função enumerate(). A função enumerate() pega uma lista (ou outro iterável) e retorna pares de (índice, valor) para cada elemento. Em cada iteração do loop:\n",
        "o índice do elemento atual é atribuído à variável idx.\n",
        "o valor do elemento atual é atribuído à variável animal."
      ],
      "metadata": {
        "id": "4j445t2uOK_H"
      }
    },
    {
      "cell_type": "markdown",
      "metadata": {
        "id": "arrLCcMyL9gK"
      },
      "source": [
        "####List comprehensions:"
      ]
    },
    {
      "cell_type": "markdown",
      "metadata": {
        "id": "5Qn2jU_pL9gL"
      },
      "source": [
        "When programming, frequently we want to transform one type of data into another. As a simple example, consider the following code that computes square numbers:"
      ]
    },
    {
      "cell_type": "code",
      "execution_count": 86,
      "metadata": {
        "colab": {
          "base_uri": "https://localhost:8080/"
        },
        "id": "IVNEwoMXL9gL",
        "outputId": "99fd544b-7ef6-4b66-c127-b9648bc12af1"
      },
      "outputs": [
        {
          "output_type": "stream",
          "name": "stdout",
          "text": [
            "[0, 1, 4, 9, 16]\n"
          ]
        }
      ],
      "source": [
        "nums = [0, 1, 2, 3, 4]\n",
        "squares = []\n",
        "for x in nums:\n",
        "    squares.append(x ** 2)\n",
        "print(squares)"
      ]
    },
    {
      "cell_type": "markdown",
      "source": [
        "Esta célula de código mostra uma maneira tradicional de criar uma nova lista contendo o quadrado de cada número em outra lista.\n",
        "\n",
        "nums = [0, 1, 2, 3, 4]: Define uma lista chamada nums contendo os números inteiros de 0 a 4.\n",
        "squares = []: Inicializa uma lista vazia chamada squares. Esta lista será usada para armazenar os resultados.\n",
        "for x in nums:: Inicia um loop for que itera sobre cada elemento na lista nums. Em cada iteração, o elemento atual é atribuído à variável x.\n",
        "squares.append(x ** 2): Dentro do loop, esta linha calcula o quadrado do número atual (x ** 2) e adiciona (append()) este resultado ao final da lista squares.\n",
        "print(squares): Após o loop terminar, esta linha imprime a lista squares, que agora contém os quadrados de todos os números em nums.\n",
        "A saída será: [0, 1, 4, 9, 16]. Esta é uma forma comum de transformar elementos de uma lista e coletar os resultados em uma nova lista. A próxima célula mostrará uma forma mais concisa de fazer a mesma coisa usando \"list comprehensions\"."
      ],
      "metadata": {
        "id": "PMzIbcqhPC5M"
      }
    },
    {
      "cell_type": "markdown",
      "metadata": {
        "id": "7DmKVUFaL9gQ"
      },
      "source": [
        "You can make this code simpler using a list comprehension:"
      ]
    },
    {
      "cell_type": "code",
      "execution_count": 87,
      "metadata": {
        "colab": {
          "base_uri": "https://localhost:8080/"
        },
        "id": "kZxsUfV6L9gR",
        "outputId": "694ad3c4-2a4e-4798-8c66-6b68ab06b222"
      },
      "outputs": [
        {
          "output_type": "stream",
          "name": "stdout",
          "text": [
            "[0, 1, 4, 9, 16]\n"
          ]
        }
      ],
      "source": [
        "nums = [0, 1, 2, 3, 4]\n",
        "squares = [x ** 2 for x in nums]\n",
        "print(squares)"
      ]
    },
    {
      "cell_type": "markdown",
      "source": [
        "forma mais concisa e \"Pythonica\" de criar uma nova lista de quadrados usando uma list comprehension.\n",
        "\n",
        "nums = [0, 1, 2, 3, 4]: Define a lista original de números.\n",
        "squares = [x ** 2 for x in nums]: Esta é a list comprehension. Ela funciona assim:\n",
        "x ** 2: Esta é a expressão que define como cada elemento da nova lista será calculado (o quadrado do elemento).\n",
        "for x in nums: Esta é a parte que itera sobre cada elemento na lista nums, atribuindo o elemento atual à variável x em cada passo.\n",
        "Essencialmente, a list comprehension lê-se como: \"crie uma lista com o quadrado de cada x para cada x na lista nums\".\n",
        "\n",
        "print(squares): Imprime a lista squares resultante.\n",
        "A saída será [0, 1, 4, 9, 16], o mesmo resultado do loop for tradicional, mas com um código mais compacto. List comprehensions são muito usadas em Python para criar listas de forma eficiente e legível."
      ],
      "metadata": {
        "id": "-GgZDismPaP9"
      }
    },
    {
      "cell_type": "markdown",
      "metadata": {
        "id": "-D8ARK7tL9gV"
      },
      "source": [
        "List comprehensions can also contain conditions:"
      ]
    },
    {
      "cell_type": "code",
      "execution_count": 88,
      "metadata": {
        "colab": {
          "base_uri": "https://localhost:8080/"
        },
        "id": "yUtgOyyYL9gV",
        "outputId": "94f83d15-cb41-4ad3-8261-c2a4c56b3a26"
      },
      "outputs": [
        {
          "output_type": "stream",
          "name": "stdout",
          "text": [
            "[0, 4, 16]\n"
          ]
        }
      ],
      "source": [
        "nums = [0, 1, 2, 3, 4]\n",
        "even_squares = [x ** 2 for x in nums if x % 2 == 0]\n",
        "print(even_squares)"
      ]
    },
    {
      "cell_type": "markdown",
      "source": [
        "list comprehension com uma condição. Ela cria uma nova lista contendo os quadrados dos números da lista original, mas apenas se o número atender a uma condição específica.\n",
        "\n",
        "nums = [0, 1, 2, 3, 4]: Define a lista original de números.\n",
        "even_squares = [x ** 2 for x in nums if x % 2 == 0]: Esta é a list comprehension com uma condição. Ela funciona da seguinte forma:\n",
        "x ** 2: A expressão para calcular o valor na nova lista (o quadrado do número).\n",
        "for x in nums: A parte que itera sobre cada elemento na lista nums.\n",
        "if x % 2 == 0: Esta é a condição. O x % 2 == 0 verifica se o número x é par (o operador % retorna o resto da divisão). A expressão x ** 2 só será incluída na nova lista se esta condição for True.\n",
        "\n",
        "Essencialmente, a list comprehension lê-se como: \"crie uma lista com o quadrado de cada x para cada x na lista nums, se x for par\".\n",
        "\n",
        "print(even_squares): Imprime a lista even_squares resultante.\n",
        "A saída será [0, 4, 16], pois apenas os números pares (0, 2 e 4) de nums tiveram seus quadrados incluídos na nova lista.\n",
        "\n"
      ],
      "metadata": {
        "id": "MP9CB9rtQBHV"
      }
    },
    {
      "cell_type": "markdown",
      "metadata": {
        "id": "H8xsUEFpL9gZ"
      },
      "source": [
        "####Dictionaries"
      ]
    },
    {
      "cell_type": "markdown",
      "metadata": {
        "id": "kkjAGMAJL9ga"
      },
      "source": [
        "A dictionary stores (key, value) pairs, similar to a `Map` in Java or an object in Javascript. You can use it like this:"
      ]
    },
    {
      "cell_type": "code",
      "execution_count": 108,
      "metadata": {
        "colab": {
          "base_uri": "https://localhost:8080/"
        },
        "id": "XBYI1MrYL9gb",
        "outputId": "cdbddcda-9129-4176-8abb-a05e7e780827"
      },
      "outputs": [
        {
          "output_type": "stream",
          "name": "stdout",
          "text": [
            "cute\n",
            "True\n"
          ]
        }
      ],
      "source": [
        "d = {'cat': 'cute', 'dog': 'furry'}  # Create a new dictionary with some data\n",
        "print(d['cat'])       # Get an entry from a dictionary; prints \"cute\"\n",
        "print('cat' in d)     # Check if a dictionary has a given key; prints \"True\""
      ]
    },
    {
      "cell_type": "markdown",
      "source": [
        "Esta célula de código demonstra o básico de como criar e acessar elementos em um dicionário em Python.\n",
        "\n",
        "d = {'cat': 'cute', 'dog': 'furry'}: Esta linha cria um novo dicionário chamado d. Um dicionário armazena pares de chave-valor. Neste caso:\n",
        "A chave 'cat' está associada ao valor 'cute'.\n",
        "A chave 'dog' está associada ao valor 'furry'.\n",
        "print(d['cat']): Esta linha acessa o valor associado à chave 'cat' no dicionário d e o imprime. A saída será \"cute\".\n",
        "print('cat' in d): Esta linha verifica se a chave 'cat' existe no dicionário d. O operador in retorna True se a chave estiver presente e False caso contrário. Como 'cat' é uma chave em d, a saída será \"True\".\n",
        "Dicionários são estruturas de dados muito úteis para armazenar dados em pares de chave-valor, permitindo acesso rápido aos valores através de suas chaves."
      ],
      "metadata": {
        "id": "2VW7h26BQ5qe"
      }
    },
    {
      "cell_type": "code",
      "execution_count": 109,
      "metadata": {
        "colab": {
          "base_uri": "https://localhost:8080/"
        },
        "id": "pS7e-G-HL9gf",
        "outputId": "20a46238-de6a-4cf3-f019-f9c74bca9eed"
      },
      "outputs": [
        {
          "output_type": "stream",
          "name": "stdout",
          "text": [
            "wet\n"
          ]
        }
      ],
      "source": [
        "d['fish'] = 'wet'    # Set an entry in a dictionary\n",
        "print(d['fish'])      # Prints \"wet\""
      ]
    },
    {
      "cell_type": "markdown",
      "source": [
        "mostra como adicionar um novo par chave-valor a um dicionário existente em Python.\n",
        "\n",
        "d['fish'] = 'wet': Esta linha adiciona um novo item ao dicionário d. A string 'fish' se torna a nova chave, e a string 'wet' é o valor associado a essa chave. Se a chave 'fish' já existisse no dicionário, esta operação a substituiria com o novo valor.\n",
        "print(d['fish']): Esta linha acessa o valor associado à chave 'fish' no dicionário d (que acabamos de adicionar) e o imprime.\n",
        "A saída será \"wet\". Isso demonstra como você pode adicionar ou atualizar entradas em um dicionário usando a sintaxe de colchetes []."
      ],
      "metadata": {
        "id": "S7VBu4RXRXw8"
      }
    },
    {
      "cell_type": "markdown",
      "source": [
        "Explique sobre sintaxe de colchetes [].\n",
        "\n",
        "Em Python, os colchetes [] são usados de várias maneiras, dependendo do contexto. No caso que vimos com dicionários (d['fish'] = 'wet'), eles são usados para acessar ou modificar valores associados a uma chave.\n",
        "\n",
        "---\n",
        "\n",
        "Vamos ver os principais usos dos colchetes []:\n",
        "\n",
        "\tAcessar/Modificar elementos em Sequências (Listas, Tuplas, Strings):\n",
        "Os colchetes são usados para obter um elemento em uma posição específica (índice) ou uma subsequência (slice) em tipos de dados ordenados como listas, tuplas e strings. A indexação começa em 0.\n",
        "\n",
        "\tIndexação:\n",
        "\n",
        "minha_lista = [10, 20, 30, 40]\n",
        "primeiro_elemento = minha_lista[0]  # Acessa o primeiro elemento (10)\n",
        "terceiro_elemento = minha_lista[2]  # Acessa o terceiro elemento (30)\n",
        "ultimo_elemento = minha_lista[-1]   # Acessa o último elemento (40)\n",
        "\n",
        "minha_string = \"Python\"\n",
        "primeira_letra = minha_string[0] # Acessa o primeiro caractere ('P')\n",
        "\n",
        "minha_lista[1] = 25 # Modifica o segundo elemento para 25 # minha_lista agora é [10, 25, 30, 40]\n",
        "\n",
        "\n",
        "\tSlicing (Fatiamento):\n",
        "Usado para obter uma parte da sequência.\n",
        "\n",
        "minha_lista = [10, 20, 30, 40, 50]\n",
        "sublista = minha_lista[1:4]  # Obtém elementos do índice 1 ao 3 (exclusive do 4). Resultado: [20, 30, 40]\n",
        "inicio_ao_indice3 = minha_lista[:3] # Do início até o índice 2. Resultado: [10, 20, 30]\n",
        "indice2_ao_fim = minha_lista[2:]   # Do índice 2 até o fim. Resultado: [30, 40, 50]\n",
        "copia_lista = minha_lista[:]       # Copia a lista inteira. Resultado: [10, 20, 30, 40, 50]\n",
        "\n",
        "\n",
        "\tAcessar/Modificar valores em Dicionários:\n",
        " Em dicionários, os colchetes são usados com a chave para acessar ou modificar o valor associado a essa chave.\n",
        "\n",
        " meu_dicionario = {'nome': 'Alice', 'idade': 30} # Acessar um valor\n",
        " nome_pessoa = meu_dicionario['nome'] # Obtém o valor associado à chave 'nome'. Resultado: 'Alice' # Modificar um valor\n",
        " meu_dicionario['idade'] = 31 # Altera o valor associado à chave 'idade' para 31 # meu_dicionario agora é {'nome': 'Alice', 'idade': 31} # Adicionar um novo par chave-valor\n",
        " meu_dicionario['cidade'] = 'São Paulo' # Adiciona a chave 'cidade' com o valor 'São Paulo' # meu_dicionario agora é {'nome': 'Alice', 'idade': 31, 'cidade': 'São Paulo'} # Se a chave não existir ao tentar acessar, ocorrerá um erro KeyError. # print(meu_dicionario['profissao']) # Isso geraria um erro\n",
        "\n",
        " \tDefinir Listas:\n",
        "Os colchetes também são usados para criar uma nova lista.\n",
        "\n",
        "lista_vazia = []\n",
        "lista_com_valores = [1, 'dois', 3.0]\n",
        "\n",
        "\tList Comprehensions:\n",
        "Como vimos anteriormente, os colchetes são usados na sintaxe de list comprehensions para criar novas listas de forma concisa.\n",
        "\n",
        "quadrados = [x**2 for x in range(5)] # Cria a lista [0, 1, 4, 9, 16]\n",
        "\n",
        "---\n",
        "\n",
        "Em resumo, a sintaxe de colchetes [] em Python é versátil e crucial para trabalhar com coleções de dados, seja acessando elementos por índice/chave, manipulando partes de sequências, ou definindo novas listas.\n",
        "\n",
        "O contexto (se está sendo usado com uma lista, tupla, string ou dicionário) determina sua função exata."
      ],
      "metadata": {
        "id": "HxMQRWtFR1mW"
      }
    },
    {
      "cell_type": "code",
      "execution_count": 110,
      "metadata": {
        "colab": {
          "base_uri": "https://localhost:8080/",
          "height": 176
        },
        "id": "tFY065ItL9gi",
        "outputId": "af538670-1b37-482d-af18-5d0666f70285"
      },
      "outputs": [
        {
          "output_type": "error",
          "ename": "KeyError",
          "evalue": "'monkey'",
          "traceback": [
            "\u001b[0;31m---------------------------------------------------------------------------\u001b[0m",
            "\u001b[0;31mKeyError\u001b[0m                                  Traceback (most recent call last)",
            "\u001b[0;32m/tmp/ipython-input-110-3521650589.py\u001b[0m in \u001b[0;36m<cell line: 0>\u001b[0;34m()\u001b[0m\n\u001b[0;32m----> 1\u001b[0;31m \u001b[0mprint\u001b[0m\u001b[0;34m(\u001b[0m\u001b[0md\u001b[0m\u001b[0;34m[\u001b[0m\u001b[0;34m'monkey'\u001b[0m\u001b[0;34m]\u001b[0m\u001b[0;34m)\u001b[0m  \u001b[0;31m# KeyError: 'monkey' not a key of d\u001b[0m\u001b[0;34m\u001b[0m\u001b[0;34m\u001b[0m\u001b[0m\n\u001b[0m",
            "\u001b[0;31mKeyError\u001b[0m: 'monkey'"
          ]
        }
      ],
      "source": [
        "print(d['monkey'])  # KeyError: 'monkey' not a key of d"
      ]
    },
    {
      "cell_type": "markdown",
      "source": [
        "célula de código tentou acessar um valor em um dicionário usando uma chave que não existe, o que resultou em um erro.\n",
        "\n",
        "print(d['monkey']): Esta linha tenta acessar o valor associado à chave 'monkey' no dicionário d. # KeyError: 'monkey' not a key of d: Este é um comentário no código que indica o tipo de erro que ocorreu e a razão: KeyError.\n",
        "Um KeyError acontece quando você tenta acessar um dicionário usando uma chave que não está presente nele. No dicionário d, as chaves existentes são 'cat', 'dog' e 'fish' (adicionada anteriormente), mas a chave 'monkey' não existe.\n",
        "\n",
        "Por isso, a execução desta célula falhou com o erro KeyError: 'monkey'. Para evitar esse erro, você pode primeiro verificar se a chave existe ('monkey' in d) ou usar o método .get() do dicionário, que permite especificar um valor padrão para retornar caso a chave não seja encontrada (como mostrado na próxima célula)."
      ],
      "metadata": {
        "id": "O4nSfFWCVB5o"
      }
    },
    {
      "cell_type": "code",
      "execution_count": 111,
      "metadata": {
        "colab": {
          "base_uri": "https://localhost:8080/"
        },
        "id": "8TjbEWqML9gl",
        "outputId": "132d26d3-a43a-4fd4-ea44-e70e88cf308f"
      },
      "outputs": [
        {
          "output_type": "stream",
          "name": "stdout",
          "text": [
            "N/A\n",
            "wet\n"
          ]
        }
      ],
      "source": [
        "print(d.get('monkey', 'N/A'))  # Get an element with a default; prints \"N/A\"\n",
        "print(d.get('fish', 'N/A'))    # Get an element with a default; prints \"wet\""
      ]
    },
    {
      "cell_type": "markdown",
      "source": [
        "uso do método .get() em dicionários Python, que é uma forma segura de acessar valores sem gerar um erro se a chave não existir.\n",
        "\n",
        "\n",
        "print(d.get('monkey', 'N/A')): Esta linha tenta obter o valor associado à chave 'monkey' no dicionário d usando o método .get().\n",
        "O primeiro argumento ('monkey') é a chave que você quer acessar.\n",
        "O segundo argumento ('N/A') é o valor padrão que será retornado se a chave não for encontrada no dicionário. Como a chave 'monkey' não existe em d, o método .get() retorna o valor padrão 'N/A'. A saída será \"N/A\".\n",
        "\n",
        "\n",
        "print(d.get('fish', 'N/A')): Esta linha tenta obter o valor associado à chave 'fish' no dicionário d.\n",
        "A chave 'fish' existe no dicionário (foi adicionada anteriormente).\n",
        "Portanto, o método .get() retorna o valor associado a essa chave, que é 'wet', ignorando o valor padrão 'N/A'. A saída será \"wet\".\n",
        "\n",
        "\n",
        "O método .get() é útil para evitar o erro KeyError que ocorreria se você usasse a sintaxe de colchetes (d['chave_inexistente']) para uma chave que não existe."
      ],
      "metadata": {
        "id": "al1nsah3Ve-2"
      }
    },
    {
      "cell_type": "code",
      "execution_count": 112,
      "metadata": {
        "colab": {
          "base_uri": "https://localhost:8080/"
        },
        "id": "0EItdNBJL9go",
        "outputId": "2415b903-932e-4c4f-b3d2-11ebb7fed16c"
      },
      "outputs": [
        {
          "output_type": "stream",
          "name": "stdout",
          "text": [
            "N/A\n"
          ]
        }
      ],
      "source": [
        "del d['fish']        # Remove an element from a dictionary\n",
        "print(d.get('fish', 'N/A')) # \"fish\" is no longer a key; prints \"N/A\""
      ]
    },
    {
      "cell_type": "markdown",
      "source": [
        "célula de código demonstra como remover um elemento de um dicionário de forma segura e depois verificar se a remoção foi bem-sucedida usando o método .get().\n",
        "\n",
        "Aqui está a explicação do código atual:\n",
        "\n",
        "if 'fish' in d:: Esta linha verifica se a chave 'fish' existe no dicionário d. Esta é uma boa prática para evitar um erro (KeyError) caso você tente remover uma chave que não está presente.\n",
        "del d['fish']: Se a condição do if for verdadeira (ou seja, se 'fish' estiver no dicionário), esta linha remove o par chave-valor com a chave 'fish' do dicionário d.\n",
        "print(d.get('fish', 'N/A')): Esta linha usa o método .get() para tentar obter o valor associado à chave 'fish'. Como a chave foi removida na linha anterior (ou não existia para começar), o método .get() retornará o valor padrão especificado, que é 'N/A'.\n",
        "A saída deste código será \"N/A\", confirmando que a chave 'fish' não está mais no dicionário (ou nunca esteve)."
      ],
      "metadata": {
        "id": "a-umGmJrXZEC"
      }
    },
    {
      "cell_type": "markdown",
      "metadata": {
        "id": "wqm4dRZNL9gr"
      },
      "source": [
        "You can find all you need to know about dictionaries in the [documentation](https://docs.python.org/2/library/stdtypes.html#dict)."
      ]
    },
    {
      "cell_type": "markdown",
      "metadata": {
        "id": "IxwEqHlGL9gr"
      },
      "source": [
        "It is easy to iterate over the keys in a dictionary:"
      ]
    },
    {
      "cell_type": "code",
      "execution_count": 113,
      "metadata": {
        "colab": {
          "base_uri": "https://localhost:8080/"
        },
        "id": "rYfz7ZKNL9gs",
        "outputId": "7d395d0b-3d30-4938-aac5-3cf87b7dde72"
      },
      "outputs": [
        {
          "output_type": "stream",
          "name": "stdout",
          "text": [
            "A person has 2 legs\n",
            "A cat has 4 legs\n",
            "A spider has 8 legs\n"
          ]
        }
      ],
      "source": [
        "d = {'person': 2, 'cat': 4, 'spider': 8}\n",
        "for animal, legs in d.items():\n",
        "    print('A {} has {} legs'.format(animal, legs))"
      ]
    },
    {
      "cell_type": "markdown",
      "source": [
        "iterar (percorrer) os pares chave-valor de um dicionário em Python.\n",
        "\n",
        "d = {'person': 2, 'cat': 4, 'spider': 8}: Define um dicionário chamado d com chaves ('person', 'cat', 'spider') e seus respectivos valores (2, 4, 8).\n",
        "for animal, legs in d.items():: Este é um loop for que itera sobre os itens do dicionário. O método .items() de um dicionário retorna uma visualização dos pares chave-valor do dicionário como tuplas (chave, valor). Em cada iteração do loop:\n",
        "A chave atual é atribuída à variável animal.\n",
        "O valor atual é atribuído à variável legs.\n",
        "print('A {} has {} legs'.format(animal, legs)): Dentro do loop, esta linha imprime uma string formatada que descreve o animal e o número de pernas. O método .format() substitui {} pelos valores das variáveis animal e legs.\n",
        "A saída deste código será: A person has 2 legs A cat has 4 legs A spider has 8 legs\n",
        "\n",
        "Isso mostra uma maneira comum e legível de acessar tanto as chaves quanto os valores ao percorrer um"
      ],
      "metadata": {
        "id": "lXi4k020X1xn"
      }
    },
    {
      "cell_type": "markdown",
      "metadata": {
        "id": "17sxiOpzL9gz"
      },
      "source": [
        "Dictionary comprehensions: These are similar to list comprehensions, but allow you to easily construct dictionaries. For example:"
      ]
    },
    {
      "cell_type": "code",
      "execution_count": 114,
      "metadata": {
        "colab": {
          "base_uri": "https://localhost:8080/"
        },
        "id": "8PB07imLL9gz",
        "outputId": "30a81f0a-ff56-4353-96e4-7356f4e8f32b"
      },
      "outputs": [
        {
          "output_type": "stream",
          "name": "stdout",
          "text": [
            "{0: 0, 2: 4, 4: 16}\n"
          ]
        }
      ],
      "source": [
        "nums = [0, 1, 2, 3, 4]\n",
        "even_num_to_square = {x: x ** 2 for x in nums if x % 2 == 0}\n",
        "print(even_num_to_square)"
      ]
    },
    {
      "cell_type": "markdown",
      "source": [
        "uso de dictionary comprehensions, que são semelhantes às list comprehensions, mas usadas para criar dicionários de forma concisa.\n",
        "\n",
        "nums = [0, 1, 2, 3, 4]: Define uma lista de números inteiros.\n",
        "even_num_to_square = {x: x ** 2 for x in nums if x % 2 == 0}: Esta é a dictionary comprehension. Ela funciona assim:\n",
        "{x: x ** 2 ...}: Define que cada item no dicionário terá a variável x como chave e x ** 2 (o quadrado de x) como valor.\n",
        "for x in nums: Itera sobre cada elemento (x) na lista nums.\n",
        "if x % 2 == 0: Esta é uma condição. O par chave-valor x: x ** 2 só será incluído no dicionário se o número x for par.\n",
        "\n",
        "Essencialmente, a dictionary comprehension lê-se como: \"crie um dicionário onde a chave é x e o valor é x ao quadrado, para cada x na lista nums, se x for par\".\n",
        "\n",
        "print(even_num_to_square): Imprime o dicionário resultante.\n",
        "A saída será {0: 0, 2: 4, 4: 16}, contendo apenas os pares onde o número original (a chave) é par e o valor é o seu quadrado."
      ],
      "metadata": {
        "id": "cQZxcpb8YEHO"
      }
    },
    {
      "cell_type": "markdown",
      "metadata": {
        "id": "V9MHfUdvL9g2"
      },
      "source": [
        "####Sets"
      ]
    },
    {
      "cell_type": "markdown",
      "metadata": {
        "id": "Rpm4UtNpL9g2"
      },
      "source": [
        "A set is an unordered collection of distinct elements. As a simple example, consider the following:"
      ]
    },
    {
      "cell_type": "code",
      "execution_count": null,
      "metadata": {
        "id": "MmyaniLsL9g2"
      },
      "outputs": [],
      "source": [
        "animals = {'cat', 'dog'}\n",
        "print('cat' in animals)   # Check if an element is in a set; prints \"True\"\n",
        "print('fish' in animals)  # prints \"False\"\n"
      ]
    },
    {
      "cell_type": "code",
      "execution_count": null,
      "metadata": {
        "id": "ElJEyK86L9g6"
      },
      "outputs": [],
      "source": [
        "animals.add('fish')      # Add an element to a set\n",
        "print('fish' in animals)\n",
        "print(len(animals))       # Number of elements in a set;"
      ]
    },
    {
      "cell_type": "code",
      "execution_count": null,
      "metadata": {
        "id": "5uGmrxdPL9g9"
      },
      "outputs": [],
      "source": [
        "animals.add('cat')       # Adding an element that is already in the set does nothing\n",
        "print(len(animals))\n",
        "animals.remove('cat')    # Remove an element from a set\n",
        "print(len(animals))"
      ]
    },
    {
      "cell_type": "markdown",
      "metadata": {
        "id": "zk2DbvLKL9g_"
      },
      "source": [
        "_Loops_: Iterating over a set has the same syntax as iterating over a list; however since sets are unordered, you cannot make assumptions about the order in which you visit the elements of the set:"
      ]
    },
    {
      "cell_type": "code",
      "execution_count": null,
      "metadata": {
        "id": "K47KYNGyL9hA"
      },
      "outputs": [],
      "source": [
        "animals = {'cat', 'dog', 'fish'}\n",
        "for idx, animal in enumerate(animals):\n",
        "    print('#{}: {}'.format(idx + 1, animal))"
      ]
    },
    {
      "cell_type": "markdown",
      "metadata": {
        "id": "puq4S8buL9hC"
      },
      "source": [
        "Set comprehensions: Like lists and dictionaries, we can easily construct sets using set comprehensions:"
      ]
    },
    {
      "cell_type": "code",
      "execution_count": null,
      "metadata": {
        "id": "iw7k90k3L9hC"
      },
      "outputs": [],
      "source": [
        "from math import sqrt\n",
        "print({int(sqrt(x)) for x in range(30)})"
      ]
    },
    {
      "cell_type": "markdown",
      "metadata": {
        "id": "qPsHSKB1L9hF"
      },
      "source": [
        "####Tuples"
      ]
    },
    {
      "cell_type": "markdown",
      "metadata": {
        "id": "kucc0LKVL9hG"
      },
      "source": [
        "A tuple is an (immutable) ordered list of values. A tuple is in many ways similar to a list; one of the most important differences is that tuples can be used as keys in dictionaries and as elements of sets, while lists cannot. Here is a trivial example:"
      ]
    },
    {
      "cell_type": "code",
      "execution_count": null,
      "metadata": {
        "id": "9wHUyTKxL9hH"
      },
      "outputs": [],
      "source": [
        "d = {(x, x + 1): x for x in range(10)}  # Create a dictionary with tuple keys\n",
        "t = (5, 6)       # Create a tuple\n",
        "print(type(t))\n",
        "print(d[t])\n",
        "print(d[(1, 2)])"
      ]
    },
    {
      "cell_type": "code",
      "execution_count": null,
      "metadata": {
        "id": "HoO8zYKzL9hJ"
      },
      "outputs": [],
      "source": [
        "t[0] = 1"
      ]
    },
    {
      "cell_type": "markdown",
      "metadata": {
        "id": "AXA4jrEOL9hM"
      },
      "source": [
        "###Functions"
      ]
    },
    {
      "cell_type": "markdown",
      "metadata": {
        "id": "WaRms-QfL9hN"
      },
      "source": [
        "Python functions are defined using the `def` keyword. For example:"
      ]
    },
    {
      "cell_type": "code",
      "execution_count": null,
      "metadata": {
        "id": "kiMDUr58L9hN"
      },
      "outputs": [],
      "source": [
        "def sign(x):\n",
        "    if x > 0:\n",
        "        return 'positive'\n",
        "    elif x < 0:\n",
        "        return 'negative'\n",
        "    else:\n",
        "        return 'zero'\n",
        "\n",
        "for x in [-1, 0, 1]:\n",
        "    print(sign(x))"
      ]
    },
    {
      "cell_type": "markdown",
      "metadata": {
        "id": "U-QJFt8TL9hR"
      },
      "source": [
        "We will often define functions to take optional keyword arguments, like this:"
      ]
    },
    {
      "cell_type": "code",
      "execution_count": null,
      "metadata": {
        "id": "PfsZ3DazL9hR"
      },
      "outputs": [],
      "source": [
        "def hello(name, loud=False):\n",
        "    if loud:\n",
        "        print('HELLO, {}'.format(name.upper()))\n",
        "    else:\n",
        "        print('Hello, {}!'.format(name))\n",
        "\n",
        "hello('Bob')\n",
        "hello('Fred', loud=True)"
      ]
    },
    {
      "cell_type": "markdown",
      "metadata": {
        "id": "ObA9PRtQL9hT"
      },
      "source": [
        "###Classes"
      ]
    },
    {
      "cell_type": "markdown",
      "metadata": {
        "id": "hAzL_lTkL9hU"
      },
      "source": [
        "The syntax for defining classes in Python is straightforward:"
      ]
    },
    {
      "cell_type": "code",
      "execution_count": null,
      "metadata": {
        "id": "RWdbaGigL9hU"
      },
      "outputs": [],
      "source": [
        "class Greeter:\n",
        "\n",
        "    # Constructor\n",
        "    def __init__(self, name):\n",
        "        self.name = name  # Create an instance variable\n",
        "\n",
        "    # Instance method\n",
        "    def greet(self, loud=False):\n",
        "        if loud:\n",
        "          print('HELLO, {}'.format(self.name.upper()))\n",
        "        else:\n",
        "          print('Hello, {}!'.format(self.name))\n",
        "\n",
        "g = Greeter('Fred')  # Construct an instance of the Greeter class\n",
        "g.greet()            # Call an instance method; prints \"Hello, Fred\"\n",
        "g.greet(loud=True)   # Call an instance method; prints \"HELLO, FRED!\""
      ]
    },
    {
      "cell_type": "markdown",
      "metadata": {
        "id": "3cfrOV4dL9hW"
      },
      "source": [
        "##Numpy"
      ]
    },
    {
      "cell_type": "markdown",
      "metadata": {
        "id": "fY12nHhyL9hX"
      },
      "source": [
        "Numpy is the core library for scientific computing in Python. It provides a high-performance multidimensional array object, and tools for working with these arrays. If you are already familiar with MATLAB, you might find this [tutorial](http://wiki.scipy.org/NumPy_for_Matlab_Users) useful to get started with Numpy."
      ]
    },
    {
      "cell_type": "markdown",
      "metadata": {
        "id": "lZMyAdqhL9hY"
      },
      "source": [
        "To use Numpy, we first need to import the `numpy` package:"
      ]
    },
    {
      "cell_type": "code",
      "execution_count": null,
      "metadata": {
        "id": "58QdX8BLL9hZ"
      },
      "outputs": [],
      "source": [
        "import numpy as np"
      ]
    },
    {
      "cell_type": "markdown",
      "metadata": {
        "id": "DDx6v1EdL9hb"
      },
      "source": [
        "###Arrays"
      ]
    },
    {
      "cell_type": "markdown",
      "metadata": {
        "id": "f-Zv3f7LL9hc"
      },
      "source": [
        "A numpy array is a grid of values, all of the same type, and is indexed by a tuple of nonnegative integers. The number of dimensions is the rank of the array; the shape of an array is a tuple of integers giving the size of the array along each dimension."
      ]
    },
    {
      "cell_type": "markdown",
      "metadata": {
        "id": "_eMTRnZRL9hc"
      },
      "source": [
        "We can initialize numpy arrays from nested Python lists, and access elements using square brackets:"
      ]
    },
    {
      "cell_type": "code",
      "execution_count": null,
      "metadata": {
        "id": "-l3JrGxCL9hc"
      },
      "outputs": [],
      "source": [
        "a = np.array([1, 2, 3])  # Create a rank 1 array\n",
        "print(type(a), a.shape, a[0], a[1], a[2])\n",
        "a[0] = 5                 # Change an element of the array\n",
        "print(a)"
      ]
    },
    {
      "cell_type": "code",
      "execution_count": null,
      "metadata": {
        "id": "ma6mk-kdL9hh"
      },
      "outputs": [],
      "source": [
        "b = np.array([[1,2,3],[4,5,6]])   # Create a rank 2 array\n",
        "print(b)"
      ]
    },
    {
      "cell_type": "code",
      "execution_count": null,
      "metadata": {
        "id": "ymfSHAwtL9hj"
      },
      "outputs": [],
      "source": [
        "print(b.shape)\n",
        "print(b[0, 0], b[0, 1], b[1, 0])"
      ]
    },
    {
      "cell_type": "markdown",
      "metadata": {
        "id": "F2qwdyvuL9hn"
      },
      "source": [
        "Numpy also provides many functions to create arrays:"
      ]
    },
    {
      "cell_type": "code",
      "execution_count": null,
      "metadata": {
        "id": "mVTN_EBqL9hn"
      },
      "outputs": [],
      "source": [
        "a = np.zeros((2,2))  # Create an array of all zeros\n",
        "print(a)"
      ]
    },
    {
      "cell_type": "code",
      "execution_count": null,
      "metadata": {
        "id": "skiKlNmlL9h5"
      },
      "outputs": [],
      "source": [
        "b = np.ones((1,2))   # Create an array of all ones\n",
        "print(b)"
      ]
    },
    {
      "cell_type": "code",
      "execution_count": null,
      "metadata": {
        "id": "HtFsr03bL9h7"
      },
      "outputs": [],
      "source": [
        "c = np.full((2,2), 7) # Create a constant array\n",
        "print(c)"
      ]
    },
    {
      "cell_type": "code",
      "execution_count": null,
      "metadata": {
        "id": "-QcALHvkL9h9"
      },
      "outputs": [],
      "source": [
        "d = np.eye(2)        # Create a 2x2 identity matrix\n",
        "print(d)"
      ]
    },
    {
      "cell_type": "code",
      "execution_count": null,
      "metadata": {
        "id": "RCpaYg9qL9iA"
      },
      "outputs": [],
      "source": [
        "e = np.random.random((2,2)) # Create an array filled with random values\n",
        "print(e)"
      ]
    },
    {
      "cell_type": "markdown",
      "metadata": {
        "id": "jI5qcSDfL9iC"
      },
      "source": [
        "###Array indexing"
      ]
    },
    {
      "cell_type": "markdown",
      "metadata": {
        "id": "M-E4MUeVL9iC"
      },
      "source": [
        "Numpy offers several ways to index into arrays."
      ]
    },
    {
      "cell_type": "markdown",
      "metadata": {
        "id": "QYv4JyIEL9iD"
      },
      "source": [
        "Slicing: Similar to Python lists, numpy arrays can be sliced. Since arrays may be multidimensional, you must specify a slice for each dimension of the array:"
      ]
    },
    {
      "cell_type": "code",
      "execution_count": null,
      "metadata": {
        "id": "wLWA0udwL9iD"
      },
      "outputs": [],
      "source": [
        "import numpy as np\n",
        "\n",
        "# Create the following rank 2 array with shape (3, 4)\n",
        "# [[ 1  2  3  4]\n",
        "#  [ 5  6  7  8]\n",
        "#  [ 9 10 11 12]]\n",
        "a = np.array([[1,2,3,4], [5,6,7,8], [9,10,11,12]])\n",
        "\n",
        "# Use slicing to pull out the subarray consisting of the first 2 rows\n",
        "# and columns 1 and 2; b is the following array of shape (2, 2):\n",
        "# [[2 3]\n",
        "#  [6 7]]\n",
        "b = a[:2, 1:3]\n",
        "print(b)"
      ]
    },
    {
      "cell_type": "markdown",
      "metadata": {
        "id": "KahhtZKYL9iF"
      },
      "source": [
        "A slice of an array is a view into the same data, so modifying it will modify the original array."
      ]
    },
    {
      "cell_type": "code",
      "execution_count": null,
      "metadata": {
        "id": "1kmtaFHuL9iG"
      },
      "outputs": [],
      "source": [
        "print(a[0, 1])\n",
        "b[0, 0] = 77    # b[0, 0] is the same piece of data as a[0, 1]\n",
        "print(a[0, 1])"
      ]
    },
    {
      "cell_type": "markdown",
      "metadata": {
        "id": "_Zcf3zi-L9iI"
      },
      "source": [
        "You can also mix integer indexing with slice indexing. However, doing so will yield an array of lower rank than the original array. Note that this is quite different from the way that MATLAB handles array slicing:"
      ]
    },
    {
      "cell_type": "code",
      "execution_count": null,
      "metadata": {
        "id": "G6lfbPuxL9iJ"
      },
      "outputs": [],
      "source": [
        "# Create the following rank 2 array with shape (3, 4)\n",
        "a = np.array([[1,2,3,4], [5,6,7,8], [9,10,11,12]])\n",
        "print(a)"
      ]
    },
    {
      "cell_type": "markdown",
      "metadata": {
        "id": "NCye3NXhL9iL"
      },
      "source": [
        "Two ways of accessing the data in the middle row of the array.\n",
        "Mixing integer indexing with slices yields an array of lower rank,\n",
        "while using only slices yields an array of the same rank as the\n",
        "original array:"
      ]
    },
    {
      "cell_type": "code",
      "execution_count": null,
      "metadata": {
        "id": "EOiEMsmNL9iL"
      },
      "outputs": [],
      "source": [
        "row_r1 = a[1, :]    # Rank 1 view of the second row of a\n",
        "row_r2 = a[1:2, :]  # Rank 2 view of the second row of a\n",
        "row_r3 = a[[1], :]  # Rank 2 view of the second row of a\n",
        "print(row_r1, row_r1.shape)\n",
        "print(row_r2, row_r2.shape)\n",
        "print(row_r3, row_r3.shape)"
      ]
    },
    {
      "cell_type": "code",
      "execution_count": null,
      "metadata": {
        "id": "JXu73pfDL9iN"
      },
      "outputs": [],
      "source": [
        "# We can make the same distinction when accessing columns of an array:\n",
        "col_r1 = a[:, 1]\n",
        "col_r2 = a[:, 1:2]\n",
        "print(col_r1, col_r1.shape)\n",
        "print()\n",
        "print(col_r2, col_r2.shape)"
      ]
    },
    {
      "cell_type": "markdown",
      "metadata": {
        "id": "VP3916bOL9iP"
      },
      "source": [
        "Integer array indexing: When you index into numpy arrays using slicing, the resulting array view will always be a subarray of the original array. In contrast, integer array indexing allows you to construct arbitrary arrays using the data from another array. Here is an example:"
      ]
    },
    {
      "cell_type": "code",
      "execution_count": null,
      "metadata": {
        "id": "TBnWonIDL9iP"
      },
      "outputs": [],
      "source": [
        "a = np.array([[1,2], [3, 4], [5, 6]])\n",
        "\n",
        "# An example of integer array indexing.\n",
        "# The returned array will have shape (3,) and\n",
        "print(a[[0, 1, 2], [0, 1, 0]])\n",
        "\n",
        "# The above example of integer array indexing is equivalent to this:\n",
        "print(np.array([a[0, 0], a[1, 1], a[2, 0]]))"
      ]
    },
    {
      "cell_type": "code",
      "execution_count": null,
      "metadata": {
        "id": "n7vuati-L9iR"
      },
      "outputs": [],
      "source": [
        "# When using integer array indexing, you can reuse the same\n",
        "# element from the source array:\n",
        "print(a[[0, 0], [1, 1]])\n",
        "\n",
        "# Equivalent to the previous integer array indexing example\n",
        "print(np.array([a[0, 1], a[0, 1]]))"
      ]
    },
    {
      "cell_type": "markdown",
      "metadata": {
        "id": "kaipSLafL9iU"
      },
      "source": [
        "One useful trick with integer array indexing is selecting or mutating one element from each row of a matrix:"
      ]
    },
    {
      "cell_type": "code",
      "execution_count": null,
      "metadata": {
        "id": "ehqsV7TXL9iU"
      },
      "outputs": [],
      "source": [
        "# Create a new array from which we will select elements\n",
        "a = np.array([[1,2,3], [4,5,6], [7,8,9], [10, 11, 12]])\n",
        "print(a)"
      ]
    },
    {
      "cell_type": "code",
      "execution_count": null,
      "metadata": {
        "id": "pAPOoqy5L9iV"
      },
      "outputs": [],
      "source": [
        "# Create an array of indices\n",
        "b = np.array([0, 2, 0, 1])\n",
        "\n",
        "# Select one element from each row of a using the indices in b\n",
        "print(a[np.arange(4), b])  # Prints \"[ 1  6  7 11]\""
      ]
    },
    {
      "cell_type": "code",
      "execution_count": null,
      "metadata": {
        "id": "6v1PdI1DL9ib"
      },
      "outputs": [],
      "source": [
        "# Mutate one element from each row of a using the indices in b\n",
        "a[np.arange(4), b] += 10\n",
        "print(a)"
      ]
    },
    {
      "cell_type": "markdown",
      "metadata": {
        "id": "kaE8dBGgL9id"
      },
      "source": [
        "Boolean array indexing: Boolean array indexing lets you pick out arbitrary elements of an array. Frequently this type of indexing is used to select the elements of an array that satisfy some condition. Here is an example:"
      ]
    },
    {
      "cell_type": "code",
      "execution_count": null,
      "metadata": {
        "id": "32PusjtKL9id"
      },
      "outputs": [],
      "source": [
        "import numpy as np\n",
        "\n",
        "a = np.array([[1,2], [3, 4], [5, 6]])\n",
        "\n",
        "bool_idx = (a > 2)  # Find the elements of a that are bigger than 2;\n",
        "                    # this returns a numpy array of Booleans of the same\n",
        "                    # shape as a, where each slot of bool_idx tells\n",
        "                    # whether that element of a is > 2.\n",
        "\n",
        "print(bool_idx)"
      ]
    },
    {
      "cell_type": "code",
      "execution_count": null,
      "metadata": {
        "id": "cb2IRMXaL9if"
      },
      "outputs": [],
      "source": [
        "# We use boolean array indexing to construct a rank 1 array\n",
        "# consisting of the elements of a corresponding to the True values\n",
        "# of bool_idx\n",
        "print(a[bool_idx])\n",
        "\n",
        "# We can do all of the above in a single concise statement:\n",
        "print(a[a > 2])"
      ]
    },
    {
      "cell_type": "markdown",
      "metadata": {
        "id": "CdofMonAL9ih"
      },
      "source": [
        "For brevity we have left out a lot of details about numpy array indexing; if you want to know more you should read the documentation."
      ]
    },
    {
      "cell_type": "markdown",
      "metadata": {
        "id": "jTctwqdQL9ih"
      },
      "source": [
        "###Datatypes"
      ]
    },
    {
      "cell_type": "markdown",
      "metadata": {
        "id": "kSZQ1WkIL9ih"
      },
      "source": [
        "Every numpy array is a grid of elements of the same type. Numpy provides a large set of numeric datatypes that you can use to construct arrays. Numpy tries to guess a datatype when you create an array, but functions that construct arrays usually also include an optional argument to explicitly specify the datatype. Here is an example:"
      ]
    },
    {
      "cell_type": "code",
      "execution_count": null,
      "metadata": {
        "id": "4za4O0m5L9ih"
      },
      "outputs": [],
      "source": [
        "x = np.array([1, 2])  # Let numpy choose the datatype\n",
        "y = np.array([1.0, 2.0])  # Let numpy choose the datatype\n",
        "z = np.array([1, 2], dtype=np.int64)  # Force a particular datatype\n",
        "\n",
        "print(x.dtype, y.dtype, z.dtype)"
      ]
    },
    {
      "cell_type": "markdown",
      "metadata": {
        "id": "RLVIsZQpL9ik"
      },
      "source": [
        "You can read all about numpy datatypes in the [documentation](http://docs.scipy.org/doc/numpy/reference/arrays.dtypes.html)."
      ]
    },
    {
      "cell_type": "markdown",
      "metadata": {
        "id": "TuB-fdhIL9ik"
      },
      "source": [
        "###Array math"
      ]
    },
    {
      "cell_type": "markdown",
      "metadata": {
        "id": "18e8V8elL9ik"
      },
      "source": [
        "Basic mathematical functions operate elementwise on arrays, and are available both as operator overloads and as functions in the numpy module:"
      ]
    },
    {
      "cell_type": "code",
      "execution_count": null,
      "metadata": {
        "id": "gHKvBrSKL9il"
      },
      "outputs": [],
      "source": [
        "x = np.array([[1,2],[3,4]], dtype=np.float64)\n",
        "y = np.array([[5,6],[7,8]], dtype=np.float64)\n",
        "\n",
        "# Elementwise sum; both produce the array\n",
        "print(x + y)\n",
        "print(np.add(x, y))"
      ]
    },
    {
      "cell_type": "code",
      "execution_count": null,
      "metadata": {
        "id": "1fZtIAMxL9in"
      },
      "outputs": [],
      "source": [
        "# Elementwise difference; both produce the array\n",
        "print(x - y)\n",
        "print(np.subtract(x, y))"
      ]
    },
    {
      "cell_type": "code",
      "execution_count": null,
      "metadata": {
        "id": "nil4AScML9io"
      },
      "outputs": [],
      "source": [
        "# Elementwise product; both produce the array\n",
        "print(x * y)\n",
        "print(np.multiply(x, y))"
      ]
    },
    {
      "cell_type": "code",
      "execution_count": null,
      "metadata": {
        "id": "0JoA4lH6L9ip"
      },
      "outputs": [],
      "source": [
        "# Elementwise division; both produce the array\n",
        "# [[ 0.2         0.33333333]\n",
        "#  [ 0.42857143  0.5       ]]\n",
        "print(x / y)\n",
        "print(np.divide(x, y))"
      ]
    },
    {
      "cell_type": "code",
      "execution_count": null,
      "metadata": {
        "id": "g0iZuA6bL9ir"
      },
      "outputs": [],
      "source": [
        "# Elementwise square root; produces the array\n",
        "# [[ 1.          1.41421356]\n",
        "#  [ 1.73205081  2.        ]]\n",
        "print(np.sqrt(x))"
      ]
    },
    {
      "cell_type": "markdown",
      "metadata": {
        "id": "a5d_uujuL9it"
      },
      "source": [
        "Note that unlike MATLAB, `*` is elementwise multiplication, not matrix multiplication. We instead use the dot function to compute inner products of vectors, to multiply a vector by a matrix, and to multiply matrices. dot is available both as a function in the numpy module and as an instance method of array objects:"
      ]
    },
    {
      "cell_type": "code",
      "execution_count": null,
      "metadata": {
        "id": "I3FnmoSeL9iu"
      },
      "outputs": [],
      "source": [
        "x = np.array([[1,2],[3,4]])\n",
        "y = np.array([[5,6],[7,8]])\n",
        "\n",
        "v = np.array([9,10])\n",
        "w = np.array([11, 12])\n",
        "\n",
        "# Inner product of vectors; both produce 219\n",
        "print(v.dot(w))\n",
        "print(np.dot(v, w))"
      ]
    },
    {
      "cell_type": "markdown",
      "metadata": {
        "id": "vmxPbrHASVeA"
      },
      "source": [
        "You can also use the `@` operator which is equivalent to numpy's `dot` operator."
      ]
    },
    {
      "cell_type": "code",
      "execution_count": null,
      "metadata": {
        "id": "vyrWA-mXSdtt"
      },
      "outputs": [],
      "source": [
        "print(v @ w)"
      ]
    },
    {
      "cell_type": "code",
      "execution_count": null,
      "metadata": {
        "id": "zvUODeTxL9iw"
      },
      "outputs": [],
      "source": [
        "# Matrix / vector product; both produce the rank 1 array [29 67]\n",
        "print(x.dot(v))\n",
        "print(np.dot(x, v))\n",
        "print(x @ v)"
      ]
    },
    {
      "cell_type": "code",
      "execution_count": null,
      "metadata": {
        "id": "3V_3NzNEL9iy"
      },
      "outputs": [],
      "source": [
        "# Matrix / matrix product; both produce the rank 2 array\n",
        "# [[19 22]\n",
        "#  [43 50]]\n",
        "print(x.dot(y))\n",
        "print(np.dot(x, y))\n",
        "print(x @ y)"
      ]
    },
    {
      "cell_type": "markdown",
      "metadata": {
        "id": "FbE-1If_L9i0"
      },
      "source": [
        "Numpy provides many useful functions for performing computations on arrays; one of the most useful is `sum`:"
      ]
    },
    {
      "cell_type": "code",
      "execution_count": null,
      "metadata": {
        "id": "DZUdZvPrL9i0"
      },
      "outputs": [],
      "source": [
        "x = np.array([[1,2],[3,4]])\n",
        "\n",
        "print(np.sum(x))  # Compute sum of all elements; prints \"10\"\n",
        "print(np.sum(x, axis=0))  # Compute sum of each column; prints \"[4 6]\"\n",
        "print(np.sum(x, axis=1))  # Compute sum of each row; prints \"[3 7]\""
      ]
    },
    {
      "cell_type": "markdown",
      "metadata": {
        "id": "ahdVW4iUL9i3"
      },
      "source": [
        "You can find the full list of mathematical functions provided by numpy in the [documentation](http://docs.scipy.org/doc/numpy/reference/routines.math.html).\n",
        "\n",
        "Apart from computing mathematical functions using arrays, we frequently need to reshape or otherwise manipulate data in arrays. The simplest example of this type of operation is transposing a matrix; to transpose a matrix, simply use the T attribute of an array object:"
      ]
    },
    {
      "cell_type": "code",
      "execution_count": null,
      "metadata": {
        "id": "63Yl1f3oL9i3"
      },
      "outputs": [],
      "source": [
        "print(x)\n",
        "print(\"transpose\\n\", x.T)"
      ]
    },
    {
      "cell_type": "code",
      "execution_count": null,
      "metadata": {
        "id": "mkk03eNIL9i4"
      },
      "outputs": [],
      "source": [
        "v = np.array([[1,2,3]])\n",
        "print(v )\n",
        "print(\"transpose\\n\", v.T)"
      ]
    },
    {
      "cell_type": "markdown",
      "metadata": {
        "id": "REfLrUTcL9i7"
      },
      "source": [
        "###Broadcasting"
      ]
    },
    {
      "cell_type": "markdown",
      "metadata": {
        "id": "EygGAMWqL9i7"
      },
      "source": [
        "Broadcasting is a powerful mechanism that allows numpy to work with arrays of different shapes when performing arithmetic operations. Frequently we have a smaller array and a larger array, and we want to use the smaller array multiple times to perform some operation on the larger array.\n",
        "\n",
        "For example, suppose that we want to add a constant vector to each row of a matrix. We could do it like this:"
      ]
    },
    {
      "cell_type": "code",
      "execution_count": null,
      "metadata": {
        "id": "WEEvkV1ZL9i7"
      },
      "outputs": [],
      "source": [
        "# We will add the vector v to each row of the matrix x,\n",
        "# storing the result in the matrix y\n",
        "x = np.array([[1,2,3], [4,5,6], [7,8,9], [10, 11, 12]])\n",
        "v = np.array([1, 0, 1])\n",
        "y = np.empty_like(x)   # Create an empty matrix with the same shape as x\n",
        "\n",
        "# Add the vector v to each row of the matrix x with an explicit loop\n",
        "for i in range(4):\n",
        "    y[i, :] = x[i, :] + v\n",
        "\n",
        "print(y)"
      ]
    },
    {
      "cell_type": "markdown",
      "metadata": {
        "id": "2OlXXupEL9i-"
      },
      "source": [
        "This works; however when the matrix `x` is very large, computing an explicit loop in Python could be slow. Note that adding the vector v to each row of the matrix `x` is equivalent to forming a matrix `vv` by stacking multiple copies of `v` vertically, then performing elementwise summation of `x` and `vv`. We could implement this approach like this:"
      ]
    },
    {
      "cell_type": "code",
      "execution_count": null,
      "metadata": {
        "id": "vS7UwAQQL9i-"
      },
      "outputs": [],
      "source": [
        "vv = np.tile(v, (4, 1))  # Stack 4 copies of v on top of each other\n",
        "print(vv)                # Prints \"[[1 0 1]\n",
        "                         #          [1 0 1]\n",
        "                         #          [1 0 1]\n",
        "                         #          [1 0 1]]\""
      ]
    },
    {
      "cell_type": "code",
      "execution_count": null,
      "metadata": {
        "id": "N0hJphSIL9jA"
      },
      "outputs": [],
      "source": [
        "y = x + vv  # Add x and vv elementwise\n",
        "print(y)"
      ]
    },
    {
      "cell_type": "markdown",
      "metadata": {
        "id": "zHos6RJnL9jB"
      },
      "source": [
        "Numpy broadcasting allows us to perform this computation without actually creating multiple copies of v. Consider this version, using broadcasting:"
      ]
    },
    {
      "cell_type": "code",
      "execution_count": null,
      "metadata": {
        "id": "vnYFb-gYL9jC"
      },
      "outputs": [],
      "source": [
        "import numpy as np\n",
        "\n",
        "# We will add the vector v to each row of the matrix x,\n",
        "# storing the result in the matrix y\n",
        "x = np.array([[1,2,3], [4,5,6], [7,8,9], [10, 11, 12]])\n",
        "v = np.array([1, 0, 1])\n",
        "y = x + v  # Add v to each row of x using broadcasting\n",
        "print(y)"
      ]
    },
    {
      "cell_type": "markdown",
      "metadata": {
        "id": "08YyIURKL9jH"
      },
      "source": [
        "The line `y = x + v` works even though `x` has shape `(4, 3)` and `v` has shape `(3,)` due to broadcasting; this line works as if v actually had shape `(4, 3)`, where each row was a copy of `v`, and the sum was performed elementwise.\n",
        "\n",
        "Broadcasting two arrays together follows these rules:\n",
        "\n",
        "1. If the arrays do not have the same rank, prepend the shape of the lower rank array with 1s until both shapes have the same length.\n",
        "2. The two arrays are said to be compatible in a dimension if they have the same size in the dimension, or if one of the arrays has size 1 in that dimension.\n",
        "3. The arrays can be broadcast together if they are compatible in all dimensions.\n",
        "4. After broadcasting, each array behaves as if it had shape equal to the elementwise maximum of shapes of the two input arrays.\n",
        "5. In any dimension where one array had size 1 and the other array had size greater than 1, the first array behaves as if it were copied along that dimension\n",
        "\n",
        "If this explanation does not make sense, try reading the explanation from the [documentation](http://docs.scipy.org/doc/numpy/user/basics.broadcasting.html) or this [explanation](http://wiki.scipy.org/EricsBroadcastingDoc).\n",
        "\n",
        "Functions that support broadcasting are known as universal functions. You can find the list of all universal functions in the [documentation](http://docs.scipy.org/doc/numpy/reference/ufuncs.html#available-ufuncs).\n",
        "\n",
        "Here are some applications of broadcasting:"
      ]
    },
    {
      "cell_type": "code",
      "execution_count": null,
      "metadata": {
        "id": "EmQnwoM9L9jH"
      },
      "outputs": [],
      "source": [
        "# Compute outer product of vectors\n",
        "v = np.array([1,2,3])  # v has shape (3,)\n",
        "w = np.array([4,5])    # w has shape (2,)\n",
        "# To compute an outer product, we first reshape v to be a column\n",
        "# vector of shape (3, 1); we can then broadcast it against w to yield\n",
        "# an output of shape (3, 2), which is the outer product of v and w:\n",
        "\n",
        "print(np.reshape(v, (3, 1)) * w)"
      ]
    },
    {
      "cell_type": "code",
      "execution_count": null,
      "metadata": {
        "id": "PgotmpcnL9jK"
      },
      "outputs": [],
      "source": [
        "# Add a vector to each row of a matrix\n",
        "x = np.array([[1,2,3], [4,5,6]])\n",
        "# x has shape (2, 3) and v has shape (3,) so they broadcast to (2, 3),\n",
        "# giving the following matrix:\n",
        "\n",
        "print(x + v)"
      ]
    },
    {
      "cell_type": "code",
      "execution_count": null,
      "metadata": {
        "id": "T5hKS1QaL9jK"
      },
      "outputs": [],
      "source": [
        "# Add a vector to each column of a matrix\n",
        "# x has shape (2, 3) and w has shape (2,).\n",
        "# If we transpose x then it has shape (3, 2) and can be broadcast\n",
        "# against w to yield a result of shape (3, 2); transposing this result\n",
        "# yields the final result of shape (2, 3) which is the matrix x with\n",
        "# the vector w added to each column. Gives the following matrix:\n",
        "\n",
        "print((x.T + w).T)"
      ]
    },
    {
      "cell_type": "code",
      "execution_count": null,
      "metadata": {
        "id": "JDUrZUl6L9jN"
      },
      "outputs": [],
      "source": [
        "# Another solution is to reshape w to be a row vector of shape (2, 1);\n",
        "# we can then broadcast it directly against x to produce the same\n",
        "# output.\n",
        "print(x + np.reshape(w, (2, 1)))"
      ]
    },
    {
      "cell_type": "code",
      "execution_count": null,
      "metadata": {
        "id": "VzrEo4KGL9jP"
      },
      "outputs": [],
      "source": [
        "# Multiply a matrix by a constant:\n",
        "# x has shape (2, 3). Numpy treats scalars as arrays of shape ();\n",
        "# these can be broadcast together to shape (2, 3), producing the\n",
        "# following array:\n",
        "print(x * 2)"
      ]
    },
    {
      "cell_type": "markdown",
      "metadata": {
        "id": "89e2FXxFL9jQ"
      },
      "source": [
        "Broadcasting typically makes your code more concise and faster, so you should strive to use it where possible."
      ]
    },
    {
      "cell_type": "markdown",
      "metadata": {
        "id": "iF3ZtwVNL9jQ"
      },
      "source": [
        "This brief overview has touched on many of the important things that you need to know about numpy, but is far from complete. Check out the [numpy reference](http://docs.scipy.org/doc/numpy/reference/) to find out much more about numpy."
      ]
    },
    {
      "cell_type": "markdown",
      "metadata": {
        "id": "tEINf4bEL9jR"
      },
      "source": [
        "##Matplotlib"
      ]
    },
    {
      "cell_type": "markdown",
      "metadata": {
        "id": "0hgVWLaXL9jR"
      },
      "source": [
        "Matplotlib is a plotting library. In this section give a brief introduction to the `matplotlib.pyplot` module, which provides a plotting system similar to that of MATLAB."
      ]
    },
    {
      "cell_type": "code",
      "execution_count": null,
      "metadata": {
        "id": "cmh_7c6KL9jR"
      },
      "outputs": [],
      "source": [
        "import matplotlib.pyplot as plt"
      ]
    },
    {
      "cell_type": "markdown",
      "metadata": {
        "id": "jOsaA5hGL9jS"
      },
      "source": [
        "By running this special iPython command, we will be displaying plots inline:"
      ]
    },
    {
      "cell_type": "code",
      "execution_count": null,
      "metadata": {
        "id": "ijpsmwGnL9jT"
      },
      "outputs": [],
      "source": [
        "%matplotlib inline"
      ]
    },
    {
      "cell_type": "markdown",
      "metadata": {
        "id": "U5Z_oMoLL9jV"
      },
      "source": [
        "###Plotting"
      ]
    },
    {
      "cell_type": "markdown",
      "metadata": {
        "id": "6QyFJ7dhL9jV"
      },
      "source": [
        "The most important function in `matplotlib` is plot, which allows you to plot 2D data. Here is a simple example:"
      ]
    },
    {
      "cell_type": "code",
      "execution_count": null,
      "metadata": {
        "id": "pua52BGeL9jW"
      },
      "outputs": [],
      "source": [
        "# Compute the x and y coordinates for points on a sine curve\n",
        "x = np.arange(0, 3 * np.pi, 0.1)\n",
        "y = np.sin(x)\n",
        "\n",
        "# Plot the points using matplotlib\n",
        "plt.plot(x, y)"
      ]
    },
    {
      "cell_type": "markdown",
      "metadata": {
        "id": "9W2VAcLiL9jX"
      },
      "source": [
        "With just a little bit of extra work we can easily plot multiple lines at once, and add a title, legend, and axis labels:"
      ]
    },
    {
      "cell_type": "code",
      "execution_count": null,
      "metadata": {
        "id": "TfCQHJ5AL9jY"
      },
      "outputs": [],
      "source": [
        "y_sin = np.sin(x)\n",
        "y_cos = np.cos(x)\n",
        "\n",
        "# Plot the points using matplotlib\n",
        "plt.plot(x, y_sin)\n",
        "plt.plot(x, y_cos)\n",
        "plt.xlabel('x axis label')\n",
        "plt.ylabel('y axis label')\n",
        "plt.title('Sine and Cosine')\n",
        "plt.legend(['Sine', 'Cosine'])"
      ]
    },
    {
      "cell_type": "markdown",
      "metadata": {
        "id": "R5IeAY03L9ja"
      },
      "source": [
        "###Subplots"
      ]
    },
    {
      "cell_type": "markdown",
      "metadata": {
        "id": "CfUzwJg0L9ja"
      },
      "source": [
        "You can plot different things in the same figure using the subplot function. Here is an example:"
      ]
    },
    {
      "cell_type": "code",
      "execution_count": null,
      "metadata": {
        "id": "dM23yGH9L9ja"
      },
      "outputs": [],
      "source": [
        "# Compute the x and y coordinates for points on sine and cosine curves\n",
        "x = np.arange(0, 3 * np.pi, 0.1)\n",
        "y_sin = np.sin(x)\n",
        "y_cos = np.cos(x)\n",
        "\n",
        "# Set up a subplot grid that has height 2 and width 1,\n",
        "# and set the first such subplot as active.\n",
        "plt.subplot(2, 1, 1)\n",
        "\n",
        "# Make the first plot\n",
        "plt.plot(x, y_sin)\n",
        "plt.title('Sine')\n",
        "\n",
        "# Set the second subplot as active, and make the second plot.\n",
        "plt.subplot(2, 1, 2)\n",
        "plt.plot(x, y_cos)\n",
        "plt.title('Cosine')\n",
        "\n",
        "# Show the figure.\n",
        "plt.show()"
      ]
    },
    {
      "cell_type": "markdown",
      "metadata": {
        "id": "gLtsST5SL9jc"
      },
      "source": [
        "You can read much more about the `subplot` function in the [documentation](http://matplotlib.org/api/pyplot_api.html#matplotlib.pyplot.subplot)."
      ]
    },
    {
      "cell_type": "code",
      "execution_count": null,
      "metadata": {
        "id": "eJXA5AWSL9jc"
      },
      "outputs": [],
      "source": []
    }
  ],
  "metadata": {
    "colab": {
      "provenance": [],
      "collapsed_sections": [
        "qVrTo-LhL9eS",
        "nxvEkGXPM3Xh",
        "UsIWOe0LL9fn",
        "qPsHSKB1L9hF",
        "AXA4jrEOL9hM",
        "ObA9PRtQL9hT",
        "3cfrOV4dL9hW",
        "tEINf4bEL9jR"
      ],
      "include_colab_link": true
    },
    "kernelspec": {
      "display_name": "Python 3",
      "language": "python",
      "name": "python3"
    },
    "language_info": {
      "codemirror_mode": {
        "name": "ipython",
        "version": 3
      },
      "file_extension": ".py",
      "mimetype": "text/x-python",
      "name": "python",
      "nbconvert_exporter": "python",
      "pygments_lexer": "ipython3",
      "version": "3.7.6"
    }
  },
  "nbformat": 4,
  "nbformat_minor": 0
}